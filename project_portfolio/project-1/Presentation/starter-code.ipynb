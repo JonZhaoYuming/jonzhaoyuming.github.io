{
 "cells": [
  {
   "cell_type": "markdown",
   "metadata": {},
   "source": [
    "# Project 1"
   ]
  },
  {
   "cell_type": "markdown",
   "metadata": {},
   "source": [
    "## Step 1: Load the data and perform basic operations."
   ]
  },
  {
   "cell_type": "markdown",
   "metadata": {},
   "source": [
    "##### 1. Load the data in using pandas."
   ]
  },
  {
   "cell_type": "code",
   "execution_count": 1,
   "metadata": {},
   "outputs": [],
   "source": [
    "import pandas as pd\n",
    "import matplotlib.pyplot as plt\n",
    "import numpy as np\n",
    "import scipy.stats as stats\n",
    "import seaborn as sns\n",
    "\n",
    "%matplotlib inline\n",
    "act_raw_data = pd.read_csv('./../data/act.csv',index_col=0)\n",
    "sat_raw_data = pd.read_csv('./../data/sat.csv', index_col=0)"
   ]
  },
  {
   "cell_type": "markdown",
   "metadata": {},
   "source": [
    "##### 2. Print the first ten rows of each dataframe."
   ]
  },
  {
   "cell_type": "code",
   "execution_count": 2,
   "metadata": {
    "scrolled": false
   },
   "outputs": [
    {
     "data": {
      "text/html": [
       "<div>\n",
       "<style scoped>\n",
       "    .dataframe tbody tr th:only-of-type {\n",
       "        vertical-align: middle;\n",
       "    }\n",
       "\n",
       "    .dataframe tbody tr th {\n",
       "        vertical-align: top;\n",
       "    }\n",
       "\n",
       "    .dataframe thead th {\n",
       "        text-align: right;\n",
       "    }\n",
       "</style>\n",
       "<table border=\"1\" class=\"dataframe\">\n",
       "  <thead>\n",
       "    <tr style=\"text-align: right;\">\n",
       "      <th></th>\n",
       "      <th>State</th>\n",
       "      <th>Participation</th>\n",
       "      <th>English</th>\n",
       "      <th>Math</th>\n",
       "      <th>Reading</th>\n",
       "      <th>Science</th>\n",
       "      <th>Composite</th>\n",
       "    </tr>\n",
       "  </thead>\n",
       "  <tbody>\n",
       "    <tr>\n",
       "      <th>0</th>\n",
       "      <td>National</td>\n",
       "      <td>60%</td>\n",
       "      <td>20.3</td>\n",
       "      <td>20.7</td>\n",
       "      <td>21.4</td>\n",
       "      <td>21.0</td>\n",
       "      <td>21.0</td>\n",
       "    </tr>\n",
       "    <tr>\n",
       "      <th>1</th>\n",
       "      <td>Alabama</td>\n",
       "      <td>100%</td>\n",
       "      <td>18.9</td>\n",
       "      <td>18.4</td>\n",
       "      <td>19.7</td>\n",
       "      <td>19.4</td>\n",
       "      <td>19.2</td>\n",
       "    </tr>\n",
       "    <tr>\n",
       "      <th>2</th>\n",
       "      <td>Alaska</td>\n",
       "      <td>65%</td>\n",
       "      <td>18.7</td>\n",
       "      <td>19.8</td>\n",
       "      <td>20.4</td>\n",
       "      <td>19.9</td>\n",
       "      <td>19.8</td>\n",
       "    </tr>\n",
       "    <tr>\n",
       "      <th>3</th>\n",
       "      <td>Arizona</td>\n",
       "      <td>62%</td>\n",
       "      <td>18.6</td>\n",
       "      <td>19.8</td>\n",
       "      <td>20.1</td>\n",
       "      <td>19.8</td>\n",
       "      <td>19.7</td>\n",
       "    </tr>\n",
       "    <tr>\n",
       "      <th>4</th>\n",
       "      <td>Arkansas</td>\n",
       "      <td>100%</td>\n",
       "      <td>18.9</td>\n",
       "      <td>19.0</td>\n",
       "      <td>19.7</td>\n",
       "      <td>19.5</td>\n",
       "      <td>19.4</td>\n",
       "    </tr>\n",
       "    <tr>\n",
       "      <th>5</th>\n",
       "      <td>California</td>\n",
       "      <td>31%</td>\n",
       "      <td>22.5</td>\n",
       "      <td>22.7</td>\n",
       "      <td>23.1</td>\n",
       "      <td>22.2</td>\n",
       "      <td>22.8</td>\n",
       "    </tr>\n",
       "    <tr>\n",
       "      <th>6</th>\n",
       "      <td>Colorado</td>\n",
       "      <td>100%</td>\n",
       "      <td>20.1</td>\n",
       "      <td>20.3</td>\n",
       "      <td>21.2</td>\n",
       "      <td>20.9</td>\n",
       "      <td>20.8</td>\n",
       "    </tr>\n",
       "    <tr>\n",
       "      <th>7</th>\n",
       "      <td>Connecticut</td>\n",
       "      <td>31%</td>\n",
       "      <td>25.5</td>\n",
       "      <td>24.6</td>\n",
       "      <td>25.6</td>\n",
       "      <td>24.6</td>\n",
       "      <td>25.2</td>\n",
       "    </tr>\n",
       "    <tr>\n",
       "      <th>8</th>\n",
       "      <td>Delaware</td>\n",
       "      <td>18%</td>\n",
       "      <td>24.1</td>\n",
       "      <td>23.4</td>\n",
       "      <td>24.8</td>\n",
       "      <td>23.6</td>\n",
       "      <td>24.1</td>\n",
       "    </tr>\n",
       "    <tr>\n",
       "      <th>9</th>\n",
       "      <td>District of Columbia</td>\n",
       "      <td>32%</td>\n",
       "      <td>24.4</td>\n",
       "      <td>23.5</td>\n",
       "      <td>24.9</td>\n",
       "      <td>23.5</td>\n",
       "      <td>24.2</td>\n",
       "    </tr>\n",
       "  </tbody>\n",
       "</table>\n",
       "</div>"
      ],
      "text/plain": [
       "                  State Participation  English  Math  Reading  Science  \\\n",
       "0              National           60%     20.3  20.7     21.4     21.0   \n",
       "1               Alabama          100%     18.9  18.4     19.7     19.4   \n",
       "2                Alaska           65%     18.7  19.8     20.4     19.9   \n",
       "3               Arizona           62%     18.6  19.8     20.1     19.8   \n",
       "4              Arkansas          100%     18.9  19.0     19.7     19.5   \n",
       "5            California           31%     22.5  22.7     23.1     22.2   \n",
       "6              Colorado          100%     20.1  20.3     21.2     20.9   \n",
       "7           Connecticut           31%     25.5  24.6     25.6     24.6   \n",
       "8              Delaware           18%     24.1  23.4     24.8     23.6   \n",
       "9  District of Columbia           32%     24.4  23.5     24.9     23.5   \n",
       "\n",
       "   Composite  \n",
       "0       21.0  \n",
       "1       19.2  \n",
       "2       19.8  \n",
       "3       19.7  \n",
       "4       19.4  \n",
       "5       22.8  \n",
       "6       20.8  \n",
       "7       25.2  \n",
       "8       24.1  \n",
       "9       24.2  "
      ]
     },
     "execution_count": 2,
     "metadata": {},
     "output_type": "execute_result"
    }
   ],
   "source": [
    "act_raw_data.head(10) "
   ]
  },
  {
   "cell_type": "code",
   "execution_count": 3,
   "metadata": {},
   "outputs": [
    {
     "data": {
      "text/html": [
       "<div>\n",
       "<style scoped>\n",
       "    .dataframe tbody tr th:only-of-type {\n",
       "        vertical-align: middle;\n",
       "    }\n",
       "\n",
       "    .dataframe tbody tr th {\n",
       "        vertical-align: top;\n",
       "    }\n",
       "\n",
       "    .dataframe thead th {\n",
       "        text-align: right;\n",
       "    }\n",
       "</style>\n",
       "<table border=\"1\" class=\"dataframe\">\n",
       "  <thead>\n",
       "    <tr style=\"text-align: right;\">\n",
       "      <th></th>\n",
       "      <th>English</th>\n",
       "      <th>Math</th>\n",
       "      <th>Reading</th>\n",
       "      <th>Science</th>\n",
       "      <th>Composite</th>\n",
       "    </tr>\n",
       "  </thead>\n",
       "  <tbody>\n",
       "    <tr>\n",
       "      <th>count</th>\n",
       "      <td>52.000000</td>\n",
       "      <td>52.000000</td>\n",
       "      <td>52.000000</td>\n",
       "      <td>52.000000</td>\n",
       "      <td>52.000000</td>\n",
       "    </tr>\n",
       "    <tr>\n",
       "      <th>mean</th>\n",
       "      <td>20.919231</td>\n",
       "      <td>21.173077</td>\n",
       "      <td>22.001923</td>\n",
       "      <td>21.040385</td>\n",
       "      <td>21.509615</td>\n",
       "    </tr>\n",
       "    <tr>\n",
       "      <th>std</th>\n",
       "      <td>2.332132</td>\n",
       "      <td>1.963602</td>\n",
       "      <td>2.048672</td>\n",
       "      <td>3.151113</td>\n",
       "      <td>2.002083</td>\n",
       "    </tr>\n",
       "    <tr>\n",
       "      <th>min</th>\n",
       "      <td>16.300000</td>\n",
       "      <td>18.000000</td>\n",
       "      <td>18.100000</td>\n",
       "      <td>2.300000</td>\n",
       "      <td>17.800000</td>\n",
       "    </tr>\n",
       "    <tr>\n",
       "      <th>25%</th>\n",
       "      <td>19.000000</td>\n",
       "      <td>19.400000</td>\n",
       "      <td>20.475000</td>\n",
       "      <td>19.900000</td>\n",
       "      <td>19.800000</td>\n",
       "    </tr>\n",
       "    <tr>\n",
       "      <th>50%</th>\n",
       "      <td>20.550000</td>\n",
       "      <td>20.900000</td>\n",
       "      <td>21.700000</td>\n",
       "      <td>21.150000</td>\n",
       "      <td>21.400000</td>\n",
       "    </tr>\n",
       "    <tr>\n",
       "      <th>75%</th>\n",
       "      <td>23.300000</td>\n",
       "      <td>23.100000</td>\n",
       "      <td>24.125000</td>\n",
       "      <td>22.525000</td>\n",
       "      <td>23.600000</td>\n",
       "    </tr>\n",
       "    <tr>\n",
       "      <th>max</th>\n",
       "      <td>25.500000</td>\n",
       "      <td>25.300000</td>\n",
       "      <td>26.000000</td>\n",
       "      <td>24.900000</td>\n",
       "      <td>25.500000</td>\n",
       "    </tr>\n",
       "  </tbody>\n",
       "</table>\n",
       "</div>"
      ],
      "text/plain": [
       "         English       Math    Reading    Science  Composite\n",
       "count  52.000000  52.000000  52.000000  52.000000  52.000000\n",
       "mean   20.919231  21.173077  22.001923  21.040385  21.509615\n",
       "std     2.332132   1.963602   2.048672   3.151113   2.002083\n",
       "min    16.300000  18.000000  18.100000   2.300000  17.800000\n",
       "25%    19.000000  19.400000  20.475000  19.900000  19.800000\n",
       "50%    20.550000  20.900000  21.700000  21.150000  21.400000\n",
       "75%    23.300000  23.100000  24.125000  22.525000  23.600000\n",
       "max    25.500000  25.300000  26.000000  24.900000  25.500000"
      ]
     },
     "execution_count": 3,
     "metadata": {},
     "output_type": "execute_result"
    }
   ],
   "source": [
    "act_raw_data.describe() #science min seems quite small"
   ]
  },
  {
   "cell_type": "code",
   "execution_count": 4,
   "metadata": {},
   "outputs": [
    {
     "data": {
      "text/html": [
       "<div>\n",
       "<style scoped>\n",
       "    .dataframe tbody tr th:only-of-type {\n",
       "        vertical-align: middle;\n",
       "    }\n",
       "\n",
       "    .dataframe tbody tr th {\n",
       "        vertical-align: top;\n",
       "    }\n",
       "\n",
       "    .dataframe thead th {\n",
       "        text-align: right;\n",
       "    }\n",
       "</style>\n",
       "<table border=\"1\" class=\"dataframe\">\n",
       "  <thead>\n",
       "    <tr style=\"text-align: right;\">\n",
       "      <th></th>\n",
       "      <th>Evidence-Based Reading and Writing</th>\n",
       "      <th>Math</th>\n",
       "      <th>Total</th>\n",
       "    </tr>\n",
       "  </thead>\n",
       "  <tbody>\n",
       "    <tr>\n",
       "      <th>count</th>\n",
       "      <td>51.000000</td>\n",
       "      <td>51.000000</td>\n",
       "      <td>51.000000</td>\n",
       "    </tr>\n",
       "    <tr>\n",
       "      <th>mean</th>\n",
       "      <td>569.117647</td>\n",
       "      <td>547.627451</td>\n",
       "      <td>1126.098039</td>\n",
       "    </tr>\n",
       "    <tr>\n",
       "      <th>std</th>\n",
       "      <td>45.666901</td>\n",
       "      <td>84.909119</td>\n",
       "      <td>92.494812</td>\n",
       "    </tr>\n",
       "    <tr>\n",
       "      <th>min</th>\n",
       "      <td>482.000000</td>\n",
       "      <td>52.000000</td>\n",
       "      <td>950.000000</td>\n",
       "    </tr>\n",
       "    <tr>\n",
       "      <th>25%</th>\n",
       "      <td>533.500000</td>\n",
       "      <td>522.000000</td>\n",
       "      <td>1055.500000</td>\n",
       "    </tr>\n",
       "    <tr>\n",
       "      <th>50%</th>\n",
       "      <td>559.000000</td>\n",
       "      <td>548.000000</td>\n",
       "      <td>1107.000000</td>\n",
       "    </tr>\n",
       "    <tr>\n",
       "      <th>75%</th>\n",
       "      <td>613.000000</td>\n",
       "      <td>599.000000</td>\n",
       "      <td>1212.000000</td>\n",
       "    </tr>\n",
       "    <tr>\n",
       "      <th>max</th>\n",
       "      <td>644.000000</td>\n",
       "      <td>651.000000</td>\n",
       "      <td>1295.000000</td>\n",
       "    </tr>\n",
       "  </tbody>\n",
       "</table>\n",
       "</div>"
      ],
      "text/plain": [
       "       Evidence-Based Reading and Writing        Math        Total\n",
       "count                           51.000000   51.000000    51.000000\n",
       "mean                           569.117647  547.627451  1126.098039\n",
       "std                             45.666901   84.909119    92.494812\n",
       "min                            482.000000   52.000000   950.000000\n",
       "25%                            533.500000  522.000000  1055.500000\n",
       "50%                            559.000000  548.000000  1107.000000\n",
       "75%                            613.000000  599.000000  1212.000000\n",
       "max                            644.000000  651.000000  1295.000000"
      ]
     },
     "execution_count": 4,
     "metadata": {},
     "output_type": "execute_result"
    }
   ],
   "source": [
    "sat_raw_data.describe() #math min seems quite small"
   ]
  },
  {
   "cell_type": "markdown",
   "metadata": {},
   "source": [
    "The outliner in math doesn't seem right\n"
   ]
  },
  {
   "cell_type": "markdown",
   "metadata": {},
   "source": [
    "##### 3. Describe in words what each variable (column) is."
   ]
  },
  {
   "cell_type": "markdown",
   "metadata": {
    "collapsed": true
   },
   "source": [
    "-State: result summarized by states\n",
    "\n",
    "-Participation: the percentage of high scholl graduates who took the exam in that state\n",
    "\n",
    "-Subjects(math, reading...): it is the score for each subject"
   ]
  },
  {
   "cell_type": "markdown",
   "metadata": {},
   "source": [
    "##### 4. Does the data look complete? Are there any obvious issues with the observations?"
   ]
  },
  {
   "cell_type": "code",
   "execution_count": 5,
   "metadata": {},
   "outputs": [
    {
     "data": {
      "text/plain": [
       "<matplotlib.axes._subplots.AxesSubplot at 0x1a16231668>"
      ]
     },
     "execution_count": 5,
     "metadata": {},
     "output_type": "execute_result"
    },
    {
     "data": {
      "image/png": "[encoded data removed]",
      "text/plain": [
       "<Figure size 432x288 with 1 Axes>"
      ]
     },
     "metadata": {},
     "output_type": "display_data"
    }
   ],
   "source": [
    "#plot eda graph\n",
    "sns.boxplot(data = act_raw_data) #science score outlier doesn't seem right"
   ]
  },
  {
   "cell_type": "code",
   "execution_count": 6,
   "metadata": {},
   "outputs": [
    {
     "data": {
      "text/plain": [
       "<matplotlib.axes._subplots.AxesSubplot at 0x1a218212e8>"
      ]
     },
     "execution_count": 6,
     "metadata": {},
     "output_type": "execute_result"
    },
    {
     "data": {
      "image/png": "[encoded data removed]",
      "text/plain": [
       "<Figure size 432x288 with 1 Axes>"
      ]
     },
     "metadata": {},
     "output_type": "display_data"
    }
   ],
   "source": [
    "sns.boxplot(data=sat_raw_data) #math score outlier doesn't seem right"
   ]
  },
  {
   "cell_type": "code",
   "execution_count": 7,
   "metadata": {},
   "outputs": [
    {
     "data": {
      "text/plain": [
       "State            0\n",
       "Participation    0\n",
       "English          0\n",
       "Math             0\n",
       "Reading          0\n",
       "Science          0\n",
       "Composite        0\n",
       "dtype: int64"
      ]
     },
     "execution_count": 7,
     "metadata": {},
     "output_type": "execute_result"
    }
   ],
   "source": [
    "act_raw_data.isna().sum() #no empty cell"
   ]
  },
  {
   "cell_type": "code",
   "execution_count": 8,
   "metadata": {
    "scrolled": true
   },
   "outputs": [
    {
     "data": {
      "text/plain": [
       "State                                 0\n",
       "Participation                         0\n",
       "Evidence-Based Reading and Writing    0\n",
       "Math                                  0\n",
       "Total                                 0\n",
       "dtype: int64"
      ]
     },
     "execution_count": 8,
     "metadata": {},
     "output_type": "execute_result"
    }
   ],
   "source": [
    "sat_raw_data.isna().sum() #no empty cell"
   ]
  },
  {
   "cell_type": "markdown",
   "metadata": {},
   "source": [
    "1. there are some outliers\n",
    "2. participation is not integer or string"
   ]
  },
  {
   "cell_type": "markdown",
   "metadata": {},
   "source": [
    "##### 5. Print the types of each column."
   ]
  },
  {
   "cell_type": "code",
   "execution_count": 9,
   "metadata": {
    "scrolled": true
   },
   "outputs": [
    {
     "name": "stdout",
     "output_type": "stream",
     "text": [
      "<class 'pandas.core.frame.DataFrame'>\n",
      "Int64Index: 52 entries, 0 to 51\n",
      "Data columns (total 7 columns):\n",
      "State            52 non-null object\n",
      "Participation    52 non-null object\n",
      "English          52 non-null float64\n",
      "Math             52 non-null float64\n",
      "Reading          52 non-null float64\n",
      "Science          52 non-null float64\n",
      "Composite        52 non-null float64\n",
      "dtypes: float64(5), object(2)\n",
      "memory usage: 3.2+ KB\n"
     ]
    }
   ],
   "source": [
    "act_raw_data.info()"
   ]
  },
  {
   "cell_type": "code",
   "execution_count": 10,
   "metadata": {
    "scrolled": true
   },
   "outputs": [
    {
     "name": "stdout",
     "output_type": "stream",
     "text": [
      "<class 'pandas.core.frame.DataFrame'>\n",
      "Int64Index: 51 entries, 0 to 50\n",
      "Data columns (total 5 columns):\n",
      "State                                 51 non-null object\n",
      "Participation                         51 non-null object\n",
      "Evidence-Based Reading and Writing    51 non-null int64\n",
      "Math                                  51 non-null int64\n",
      "Total                                 51 non-null int64\n",
      "dtypes: int64(3), object(2)\n",
      "memory usage: 2.4+ KB\n"
     ]
    }
   ],
   "source": [
    "sat_raw_data.info()"
   ]
  },
  {
   "cell_type": "markdown",
   "metadata": {},
   "source": [
    "##### 6. Do any types need to be reassigned? If so, go ahead and do it."
   ]
  },
  {
   "cell_type": "code",
   "execution_count": 11,
   "metadata": {},
   "outputs": [
    {
     "data": {
      "text/html": [
       "<div>\n",
       "<style scoped>\n",
       "    .dataframe tbody tr th:only-of-type {\n",
       "        vertical-align: middle;\n",
       "    }\n",
       "\n",
       "    .dataframe tbody tr th {\n",
       "        vertical-align: top;\n",
       "    }\n",
       "\n",
       "    .dataframe thead th {\n",
       "        text-align: right;\n",
       "    }\n",
       "</style>\n",
       "<table border=\"1\" class=\"dataframe\">\n",
       "  <thead>\n",
       "    <tr style=\"text-align: right;\">\n",
       "      <th></th>\n",
       "      <th>State</th>\n",
       "      <th>Participation</th>\n",
       "      <th>Evidence-Based Reading and Writing</th>\n",
       "      <th>Math</th>\n",
       "      <th>Total</th>\n",
       "    </tr>\n",
       "  </thead>\n",
       "  <tbody>\n",
       "    <tr>\n",
       "      <th>20</th>\n",
       "      <td>Maryland</td>\n",
       "      <td>69%</td>\n",
       "      <td>536</td>\n",
       "      <td>52</td>\n",
       "      <td>1060</td>\n",
       "    </tr>\n",
       "  </tbody>\n",
       "</table>\n",
       "</div>"
      ],
      "text/plain": [
       "       State Participation  Evidence-Based Reading and Writing  Math  Total\n",
       "20  Maryland           69%                                 536    52   1060"
      ]
     },
     "execution_count": 11,
     "metadata": {},
     "output_type": "execute_result"
    }
   ],
   "source": [
    "sat_raw_data[sat_raw_data['Math'] == sat_raw_data['Math'].min()]"
   ]
  },
  {
   "cell_type": "code",
   "execution_count": 12,
   "metadata": {},
   "outputs": [],
   "source": [
    "# Re-calculate SAT math score from Marland\n",
    "\n",
    "sat_raw_data.loc[20,'Math'] = sat_raw_data.loc[20,'Total'] - sat_raw_data.loc[20,'Evidence-Based Reading and Writing']"
   ]
  },
  {
   "cell_type": "code",
   "execution_count": 13,
   "metadata": {},
   "outputs": [
    {
     "data": {
      "text/html": [
       "<div>\n",
       "<style scoped>\n",
       "    .dataframe tbody tr th:only-of-type {\n",
       "        vertical-align: middle;\n",
       "    }\n",
       "\n",
       "    .dataframe tbody tr th {\n",
       "        vertical-align: top;\n",
       "    }\n",
       "\n",
       "    .dataframe thead th {\n",
       "        text-align: right;\n",
       "    }\n",
       "</style>\n",
       "<table border=\"1\" class=\"dataframe\">\n",
       "  <thead>\n",
       "    <tr style=\"text-align: right;\">\n",
       "      <th></th>\n",
       "      <th>State</th>\n",
       "      <th>Participation</th>\n",
       "      <th>English</th>\n",
       "      <th>Math</th>\n",
       "      <th>Reading</th>\n",
       "      <th>Science</th>\n",
       "      <th>Composite</th>\n",
       "    </tr>\n",
       "  </thead>\n",
       "  <tbody>\n",
       "    <tr>\n",
       "      <th>21</th>\n",
       "      <td>Maryland</td>\n",
       "      <td>28%</td>\n",
       "      <td>23.3</td>\n",
       "      <td>23.1</td>\n",
       "      <td>24.2</td>\n",
       "      <td>2.3</td>\n",
       "      <td>23.6</td>\n",
       "    </tr>\n",
       "  </tbody>\n",
       "</table>\n",
       "</div>"
      ],
      "text/plain": [
       "       State Participation  English  Math  Reading  Science  Composite\n",
       "21  Maryland           28%     23.3  23.1     24.2      2.3       23.6"
      ]
     },
     "execution_count": 13,
     "metadata": {},
     "output_type": "execute_result"
    }
   ],
   "source": [
    "act_raw_data[act_raw_data['Science'] == act_raw_data['Science'].min()]"
   ]
  },
  {
   "cell_type": "code",
   "execution_count": 14,
   "metadata": {},
   "outputs": [],
   "source": [
    "# Reassigned Science score of Maryland, score found on ACT website (https://www.act.org/content/dam/act/unsecured/documents/cccr2017/ACT_2017-Average_Scores_by_State.pdf)\n",
    "act_raw_data.loc[21,'Science'] = 23.2"
   ]
  },
  {
   "cell_type": "code",
   "execution_count": 15,
   "metadata": {
    "scrolled": true
   },
   "outputs": [],
   "source": [
    "# Convert string in 'participation' to float\n",
    "act_raw_data['Participation_float'] = act_raw_data['Participation'].str.replace('%',\"\")\n",
    "act_raw_data['Participation_float'] = act_raw_data['Participation_float'].astype(float)/100"
   ]
  },
  {
   "cell_type": "code",
   "execution_count": 16,
   "metadata": {},
   "outputs": [],
   "source": [
    "sat_raw_data['Participation_float'] = sat_raw_data['Participation'].str.replace('%',\"\")\n",
    "sat_raw_data['Participation_float'] = sat_raw_data['Participation_float'].astype(float)/100"
   ]
  },
  {
   "cell_type": "markdown",
   "metadata": {},
   "source": [
    "##### 7. Create a dictionary for each column mapping the State to its respective value for that column. (For example, you should have three SAT dictionaries.)"
   ]
  },
  {
   "cell_type": "code",
   "execution_count": 17,
   "metadata": {
    "scrolled": true
   },
   "outputs": [
    {
     "data": {
      "text/plain": [
       "dict_keys(['Alabama', 'Alaska', 'Arizona', 'Arkansas', 'California', 'Colorado', 'Connecticut', 'Delaware', 'District of Columbia', 'Florida', 'Georgia', 'Hawaii', 'Idaho', 'Illinois', 'Indiana', 'Iowa', 'Kansas', 'Kentucky', 'Louisiana', 'Maine', 'Maryland', 'Massachusetts', 'Michigan', 'Minnesota', 'Mississippi', 'Missouri', 'Montana', 'Nebraska', 'Nevada', 'New Hampshire', 'New Jersey', 'New Mexico', 'New York', 'North Carolina', 'North Dakota', 'Ohio', 'Oklahoma', 'Oregon', 'Pennsylvania', 'Rhode Island', 'South Carolina', 'South Dakota', 'Tennessee', 'Texas', 'Utah', 'Vermont', 'Virginia', 'Washington', 'West Virginia', 'Wisconsin', 'Wyoming'])"
      ]
     },
     "execution_count": 17,
     "metadata": {},
     "output_type": "execute_result"
    }
   ],
   "source": [
    "sat_raw_data_orient = sat_raw_data.set_index('State').T\n",
    "sat_dict = sat_raw_data_orient.to_dict('dict')\n",
    "sat_dict.keys()"
   ]
  },
  {
   "cell_type": "code",
   "execution_count": 18,
   "metadata": {},
   "outputs": [
    {
     "data": {
      "text/plain": [
       "dict_keys(['National', 'Alabama', 'Alaska', 'Arizona', 'Arkansas', 'California', 'Colorado', 'Connecticut', 'Delaware', 'District of Columbia', 'Florida', 'Georgia', 'Hawaii', 'Idaho', 'Illinois', 'Indiana', 'Iowa', 'Kansas', 'Kentucky', 'Louisiana', 'Maine', 'Maryland', 'Massachusetts', 'Michigan', 'Minnesota', 'Mississippi', 'Missouri', 'Montana', 'Nebraska', 'Nevada', 'New Hampshire', 'New Jersey', 'New Mexico', 'New York', 'North Carolina', 'North Dakota', 'Ohio', 'Oklahoma', 'Oregon', 'Pennsylvania', 'Rhode Island', 'South Carolina', 'South Dakota', 'Tennessee', 'Texas', 'Utah', 'Vermont', 'Virginia', 'Washington', 'West Virginia', 'Wisconsin', 'Wyoming'])"
      ]
     },
     "execution_count": 18,
     "metadata": {},
     "output_type": "execute_result"
    }
   ],
   "source": [
    "act_raw_data_orient = act_raw_data.set_index('State').T\n",
    "act_dict = act_raw_data_orient.to_dict('dict')\n",
    "act_dict.keys()"
   ]
  },
  {
   "cell_type": "markdown",
   "metadata": {},
   "source": [
    "##### 8. Create one dictionary where each key is the column name, and each value is an iterable (a list or a Pandas Series) of all the values in that column."
   ]
  },
  {
   "cell_type": "code",
   "execution_count": 19,
   "metadata": {},
   "outputs": [
    {
     "data": {
      "text/plain": [
       "{'State': ['Alabama',\n",
       "  'Alaska',\n",
       "  'Arizona',\n",
       "  'Arkansas',\n",
       "  'California',\n",
       "  'Colorado',\n",
       "  'Connecticut',\n",
       "  'Delaware',\n",
       "  'District of Columbia',\n",
       "  'Florida',\n",
       "  'Georgia',\n",
       "  'Hawaii',\n",
       "  'Idaho',\n",
       "  'Illinois',\n",
       "  'Indiana',\n",
       "  'Iowa',\n",
       "  'Kansas',\n",
       "  'Kentucky',\n",
       "  'Louisiana',\n",
       "  'Maine',\n",
       "  'Maryland',\n",
       "  'Massachusetts',\n",
       "  'Michigan',\n",
       "  'Minnesota',\n",
       "  'Mississippi',\n",
       "  'Missouri',\n",
       "  'Montana',\n",
       "  'Nebraska',\n",
       "  'Nevada',\n",
       "  'New Hampshire',\n",
       "  'New Jersey',\n",
       "  'New Mexico',\n",
       "  'New York',\n",
       "  'North Carolina',\n",
       "  'North Dakota',\n",
       "  'Ohio',\n",
       "  'Oklahoma',\n",
       "  'Oregon',\n",
       "  'Pennsylvania',\n",
       "  'Rhode Island',\n",
       "  'South Carolina',\n",
       "  'South Dakota',\n",
       "  'Tennessee',\n",
       "  'Texas',\n",
       "  'Utah',\n",
       "  'Vermont',\n",
       "  'Virginia',\n",
       "  'Washington',\n",
       "  'West Virginia',\n",
       "  'Wisconsin',\n",
       "  'Wyoming'],\n",
       " 'Participation': ['5%',\n",
       "  '38%',\n",
       "  '30%',\n",
       "  '3%',\n",
       "  '53%',\n",
       "  '11%',\n",
       "  '100%',\n",
       "  '100%',\n",
       "  '100%',\n",
       "  '83%',\n",
       "  '61%',\n",
       "  '55%',\n",
       "  '93%',\n",
       "  '9%',\n",
       "  '63%',\n",
       "  '2%',\n",
       "  '4%',\n",
       "  '4%',\n",
       "  '4%',\n",
       "  '95%',\n",
       "  '69%',\n",
       "  '76%',\n",
       "  '100%',\n",
       "  '3%',\n",
       "  '2%',\n",
       "  '3%',\n",
       "  '10%',\n",
       "  '3%',\n",
       "  '26%',\n",
       "  '96%',\n",
       "  '70%',\n",
       "  '11%',\n",
       "  '67%',\n",
       "  '49%',\n",
       "  '2%',\n",
       "  '12%',\n",
       "  '7%',\n",
       "  '43%',\n",
       "  '65%',\n",
       "  '71%',\n",
       "  '50%',\n",
       "  '3%',\n",
       "  '5%',\n",
       "  '62%',\n",
       "  '3%',\n",
       "  '60%',\n",
       "  '65%',\n",
       "  '64%',\n",
       "  '14%',\n",
       "  '3%',\n",
       "  '3%'],\n",
       " 'Evidence-Based Reading and Writing': [593,\n",
       "  547,\n",
       "  563,\n",
       "  614,\n",
       "  531,\n",
       "  606,\n",
       "  530,\n",
       "  503,\n",
       "  482,\n",
       "  520,\n",
       "  535,\n",
       "  544,\n",
       "  513,\n",
       "  559,\n",
       "  542,\n",
       "  641,\n",
       "  632,\n",
       "  631,\n",
       "  611,\n",
       "  513,\n",
       "  536,\n",
       "  555,\n",
       "  509,\n",
       "  644,\n",
       "  634,\n",
       "  640,\n",
       "  605,\n",
       "  629,\n",
       "  563,\n",
       "  532,\n",
       "  530,\n",
       "  577,\n",
       "  528,\n",
       "  546,\n",
       "  635,\n",
       "  578,\n",
       "  530,\n",
       "  560,\n",
       "  540,\n",
       "  539,\n",
       "  543,\n",
       "  612,\n",
       "  623,\n",
       "  513,\n",
       "  624,\n",
       "  562,\n",
       "  561,\n",
       "  541,\n",
       "  558,\n",
       "  642,\n",
       "  626],\n",
       " 'Math': [572,\n",
       "  533,\n",
       "  553,\n",
       "  594,\n",
       "  524,\n",
       "  595,\n",
       "  512,\n",
       "  492,\n",
       "  468,\n",
       "  497,\n",
       "  515,\n",
       "  541,\n",
       "  493,\n",
       "  556,\n",
       "  532,\n",
       "  635,\n",
       "  628,\n",
       "  616,\n",
       "  586,\n",
       "  499,\n",
       "  524,\n",
       "  551,\n",
       "  495,\n",
       "  651,\n",
       "  607,\n",
       "  631,\n",
       "  591,\n",
       "  625,\n",
       "  553,\n",
       "  520,\n",
       "  526,\n",
       "  561,\n",
       "  523,\n",
       "  535,\n",
       "  621,\n",
       "  570,\n",
       "  517,\n",
       "  548,\n",
       "  531,\n",
       "  524,\n",
       "  521,\n",
       "  603,\n",
       "  604,\n",
       "  507,\n",
       "  614,\n",
       "  551,\n",
       "  541,\n",
       "  534,\n",
       "  528,\n",
       "  649,\n",
       "  604],\n",
       " 'Total': [1165,\n",
       "  1080,\n",
       "  1116,\n",
       "  1208,\n",
       "  1055,\n",
       "  1201,\n",
       "  1041,\n",
       "  996,\n",
       "  950,\n",
       "  1017,\n",
       "  1050,\n",
       "  1085,\n",
       "  1005,\n",
       "  1115,\n",
       "  1074,\n",
       "  1275,\n",
       "  1260,\n",
       "  1247,\n",
       "  1198,\n",
       "  1012,\n",
       "  1060,\n",
       "  1107,\n",
       "  1005,\n",
       "  1295,\n",
       "  1242,\n",
       "  1271,\n",
       "  1196,\n",
       "  1253,\n",
       "  1116,\n",
       "  1052,\n",
       "  1056,\n",
       "  1138,\n",
       "  1052,\n",
       "  1081,\n",
       "  1256,\n",
       "  1149,\n",
       "  1047,\n",
       "  1108,\n",
       "  1071,\n",
       "  1062,\n",
       "  1064,\n",
       "  1216,\n",
       "  1228,\n",
       "  1020,\n",
       "  1238,\n",
       "  1114,\n",
       "  1102,\n",
       "  1075,\n",
       "  1086,\n",
       "  1291,\n",
       "  1230],\n",
       " 'Participation_float': [0.05,\n",
       "  0.38,\n",
       "  0.3,\n",
       "  0.03,\n",
       "  0.53,\n",
       "  0.11,\n",
       "  1.0,\n",
       "  1.0,\n",
       "  1.0,\n",
       "  0.83,\n",
       "  0.61,\n",
       "  0.55,\n",
       "  0.93,\n",
       "  0.09,\n",
       "  0.63,\n",
       "  0.02,\n",
       "  0.04,\n",
       "  0.04,\n",
       "  0.04,\n",
       "  0.95,\n",
       "  0.69,\n",
       "  0.76,\n",
       "  1.0,\n",
       "  0.03,\n",
       "  0.02,\n",
       "  0.03,\n",
       "  0.1,\n",
       "  0.03,\n",
       "  0.26,\n",
       "  0.96,\n",
       "  0.7,\n",
       "  0.11,\n",
       "  0.67,\n",
       "  0.49,\n",
       "  0.02,\n",
       "  0.12,\n",
       "  0.07,\n",
       "  0.43,\n",
       "  0.65,\n",
       "  0.71,\n",
       "  0.5,\n",
       "  0.03,\n",
       "  0.05,\n",
       "  0.62,\n",
       "  0.03,\n",
       "  0.6,\n",
       "  0.65,\n",
       "  0.64,\n",
       "  0.14,\n",
       "  0.03,\n",
       "  0.03]}"
      ]
     },
     "execution_count": 19,
     "metadata": {},
     "output_type": "execute_result"
    }
   ],
   "source": [
    "sat_col_dict = sat_raw_data.to_dict('list')\n",
    "sat_col_dict"
   ]
  },
  {
   "cell_type": "code",
   "execution_count": 20,
   "metadata": {},
   "outputs": [
    {
     "data": {
      "text/plain": [
       "dict_keys(['State', 'Participation', 'English', 'Math', 'Reading', 'Science', 'Composite', 'Participation_float'])"
      ]
     },
     "execution_count": 20,
     "metadata": {},
     "output_type": "execute_result"
    }
   ],
   "source": [
    "act_col_dict = act_raw_data.to_dict('list')\n",
    "act_col_dict.keys()"
   ]
  },
  {
   "cell_type": "markdown",
   "metadata": {},
   "source": [
    "##### 9. Merge the dataframes on the state column."
   ]
  },
  {
   "cell_type": "code",
   "execution_count": 21,
   "metadata": {
    "scrolled": true
   },
   "outputs": [
    {
     "data": {
      "text/html": [
       "<div>\n",
       "<style scoped>\n",
       "    .dataframe tbody tr th:only-of-type {\n",
       "        vertical-align: middle;\n",
       "    }\n",
       "\n",
       "    .dataframe tbody tr th {\n",
       "        vertical-align: top;\n",
       "    }\n",
       "\n",
       "    .dataframe thead th {\n",
       "        text-align: right;\n",
       "    }\n",
       "</style>\n",
       "<table border=\"1\" class=\"dataframe\">\n",
       "  <thead>\n",
       "    <tr style=\"text-align: right;\">\n",
       "      <th></th>\n",
       "      <th>State</th>\n",
       "      <th>Participation_x</th>\n",
       "      <th>English</th>\n",
       "      <th>Math_x</th>\n",
       "      <th>Reading</th>\n",
       "      <th>Science</th>\n",
       "      <th>Composite</th>\n",
       "      <th>Participation_float_x</th>\n",
       "      <th>Participation_y</th>\n",
       "      <th>Evidence-Based Reading and Writing</th>\n",
       "      <th>Math_y</th>\n",
       "      <th>Total</th>\n",
       "      <th>Participation_float_y</th>\n",
       "    </tr>\n",
       "  </thead>\n",
       "  <tbody>\n",
       "    <tr>\n",
       "      <th>0</th>\n",
       "      <td>Alabama</td>\n",
       "      <td>100%</td>\n",
       "      <td>18.9</td>\n",
       "      <td>18.4</td>\n",
       "      <td>19.7</td>\n",
       "      <td>19.4</td>\n",
       "      <td>19.2</td>\n",
       "      <td>1.00</td>\n",
       "      <td>5%</td>\n",
       "      <td>593</td>\n",
       "      <td>572</td>\n",
       "      <td>1165</td>\n",
       "      <td>0.05</td>\n",
       "    </tr>\n",
       "    <tr>\n",
       "      <th>1</th>\n",
       "      <td>Alaska</td>\n",
       "      <td>65%</td>\n",
       "      <td>18.7</td>\n",
       "      <td>19.8</td>\n",
       "      <td>20.4</td>\n",
       "      <td>19.9</td>\n",
       "      <td>19.8</td>\n",
       "      <td>0.65</td>\n",
       "      <td>38%</td>\n",
       "      <td>547</td>\n",
       "      <td>533</td>\n",
       "      <td>1080</td>\n",
       "      <td>0.38</td>\n",
       "    </tr>\n",
       "    <tr>\n",
       "      <th>2</th>\n",
       "      <td>Arizona</td>\n",
       "      <td>62%</td>\n",
       "      <td>18.6</td>\n",
       "      <td>19.8</td>\n",
       "      <td>20.1</td>\n",
       "      <td>19.8</td>\n",
       "      <td>19.7</td>\n",
       "      <td>0.62</td>\n",
       "      <td>30%</td>\n",
       "      <td>563</td>\n",
       "      <td>553</td>\n",
       "      <td>1116</td>\n",
       "      <td>0.30</td>\n",
       "    </tr>\n",
       "    <tr>\n",
       "      <th>3</th>\n",
       "      <td>Arkansas</td>\n",
       "      <td>100%</td>\n",
       "      <td>18.9</td>\n",
       "      <td>19.0</td>\n",
       "      <td>19.7</td>\n",
       "      <td>19.5</td>\n",
       "      <td>19.4</td>\n",
       "      <td>1.00</td>\n",
       "      <td>3%</td>\n",
       "      <td>614</td>\n",
       "      <td>594</td>\n",
       "      <td>1208</td>\n",
       "      <td>0.03</td>\n",
       "    </tr>\n",
       "    <tr>\n",
       "      <th>4</th>\n",
       "      <td>California</td>\n",
       "      <td>31%</td>\n",
       "      <td>22.5</td>\n",
       "      <td>22.7</td>\n",
       "      <td>23.1</td>\n",
       "      <td>22.2</td>\n",
       "      <td>22.8</td>\n",
       "      <td>0.31</td>\n",
       "      <td>53%</td>\n",
       "      <td>531</td>\n",
       "      <td>524</td>\n",
       "      <td>1055</td>\n",
       "      <td>0.53</td>\n",
       "    </tr>\n",
       "  </tbody>\n",
       "</table>\n",
       "</div>"
      ],
      "text/plain": [
       "        State Participation_x  English  Math_x  Reading  Science  Composite  \\\n",
       "0     Alabama            100%     18.9    18.4     19.7     19.4       19.2   \n",
       "1      Alaska             65%     18.7    19.8     20.4     19.9       19.8   \n",
       "2     Arizona             62%     18.6    19.8     20.1     19.8       19.7   \n",
       "3    Arkansas            100%     18.9    19.0     19.7     19.5       19.4   \n",
       "4  California             31%     22.5    22.7     23.1     22.2       22.8   \n",
       "\n",
       "   Participation_float_x Participation_y  Evidence-Based Reading and Writing  \\\n",
       "0                   1.00              5%                                 593   \n",
       "1                   0.65             38%                                 547   \n",
       "2                   0.62             30%                                 563   \n",
       "3                   1.00              3%                                 614   \n",
       "4                   0.31             53%                                 531   \n",
       "\n",
       "   Math_y  Total  Participation_float_y  \n",
       "0     572   1165                   0.05  \n",
       "1     533   1080                   0.38  \n",
       "2     553   1116                   0.30  \n",
       "3     594   1208                   0.03  \n",
       "4     524   1055                   0.53  "
      ]
     },
     "execution_count": 21,
     "metadata": {},
     "output_type": "execute_result"
    }
   ],
   "source": [
    "# use inner merger to exclude national row from ACT\n",
    "comb_df = pd.merge(act_raw_data, sat_raw_data, how='inner', on='State')\n",
    "comb_df.head()"
   ]
  },
  {
   "cell_type": "markdown",
   "metadata": {},
   "source": [
    "##### 10. Change the names of the columns so you can distinguish between the SAT columns and the ACT columns."
   ]
  },
  {
   "cell_type": "code",
   "execution_count": 22,
   "metadata": {},
   "outputs": [],
   "source": [
    "new_columns_dict = {\n",
    "    'State': 'State',\n",
    "    'Participation_x': 'Participation_ACT', \n",
    "    'English': 'English_ACT', \n",
    "    'Math_x': 'Math_ACT', \n",
    "    'Reading': 'Reading_ACT', \n",
    "    'Science': 'Science_ACT',\n",
    "    'Composite': 'Composite_ACT', \n",
    "    'Participation_float_x': 'Participation_float_ACT', \n",
    "    'Participation_y': 'Participation_SAT', \n",
    "    'Evidence-Based Reading and Writing': 'Reading_SAT', \n",
    "    'Math_y': 'Math_SAT',\n",
    "    'Total': 'Total_SAT',\n",
    "    'Participation_float_y': 'Participation_float_SAT'}"
   ]
  },
  {
   "cell_type": "code",
   "execution_count": 23,
   "metadata": {},
   "outputs": [],
   "source": [
    "comb_df_col = comb_df.rename(columns=new_columns_dict)"
   ]
  },
  {
   "cell_type": "code",
   "execution_count": 24,
   "metadata": {
    "scrolled": false
   },
   "outputs": [
    {
     "data": {
      "text/html": [
       "<div>\n",
       "<style scoped>\n",
       "    .dataframe tbody tr th:only-of-type {\n",
       "        vertical-align: middle;\n",
       "    }\n",
       "\n",
       "    .dataframe tbody tr th {\n",
       "        vertical-align: top;\n",
       "    }\n",
       "\n",
       "    .dataframe thead th {\n",
       "        text-align: right;\n",
       "    }\n",
       "</style>\n",
       "<table border=\"1\" class=\"dataframe\">\n",
       "  <thead>\n",
       "    <tr style=\"text-align: right;\">\n",
       "      <th></th>\n",
       "      <th>State</th>\n",
       "      <th>Participation_ACT</th>\n",
       "      <th>English_ACT</th>\n",
       "      <th>Math_ACT</th>\n",
       "      <th>Reading_ACT</th>\n",
       "      <th>Science_ACT</th>\n",
       "      <th>Composite_ACT</th>\n",
       "      <th>Participation_float_ACT</th>\n",
       "      <th>Participation_SAT</th>\n",
       "      <th>Reading_SAT</th>\n",
       "      <th>Math_SAT</th>\n",
       "      <th>Total_SAT</th>\n",
       "      <th>Participation_float_SAT</th>\n",
       "    </tr>\n",
       "  </thead>\n",
       "  <tbody>\n",
       "    <tr>\n",
       "      <th>0</th>\n",
       "      <td>Alabama</td>\n",
       "      <td>100%</td>\n",
       "      <td>18.9</td>\n",
       "      <td>18.4</td>\n",
       "      <td>19.7</td>\n",
       "      <td>19.4</td>\n",
       "      <td>19.2</td>\n",
       "      <td>1.00</td>\n",
       "      <td>5%</td>\n",
       "      <td>593</td>\n",
       "      <td>572</td>\n",
       "      <td>1165</td>\n",
       "      <td>0.05</td>\n",
       "    </tr>\n",
       "    <tr>\n",
       "      <th>1</th>\n",
       "      <td>Alaska</td>\n",
       "      <td>65%</td>\n",
       "      <td>18.7</td>\n",
       "      <td>19.8</td>\n",
       "      <td>20.4</td>\n",
       "      <td>19.9</td>\n",
       "      <td>19.8</td>\n",
       "      <td>0.65</td>\n",
       "      <td>38%</td>\n",
       "      <td>547</td>\n",
       "      <td>533</td>\n",
       "      <td>1080</td>\n",
       "      <td>0.38</td>\n",
       "    </tr>\n",
       "    <tr>\n",
       "      <th>2</th>\n",
       "      <td>Arizona</td>\n",
       "      <td>62%</td>\n",
       "      <td>18.6</td>\n",
       "      <td>19.8</td>\n",
       "      <td>20.1</td>\n",
       "      <td>19.8</td>\n",
       "      <td>19.7</td>\n",
       "      <td>0.62</td>\n",
       "      <td>30%</td>\n",
       "      <td>563</td>\n",
       "      <td>553</td>\n",
       "      <td>1116</td>\n",
       "      <td>0.30</td>\n",
       "    </tr>\n",
       "    <tr>\n",
       "      <th>3</th>\n",
       "      <td>Arkansas</td>\n",
       "      <td>100%</td>\n",
       "      <td>18.9</td>\n",
       "      <td>19.0</td>\n",
       "      <td>19.7</td>\n",
       "      <td>19.5</td>\n",
       "      <td>19.4</td>\n",
       "      <td>1.00</td>\n",
       "      <td>3%</td>\n",
       "      <td>614</td>\n",
       "      <td>594</td>\n",
       "      <td>1208</td>\n",
       "      <td>0.03</td>\n",
       "    </tr>\n",
       "    <tr>\n",
       "      <th>4</th>\n",
       "      <td>California</td>\n",
       "      <td>31%</td>\n",
       "      <td>22.5</td>\n",
       "      <td>22.7</td>\n",
       "      <td>23.1</td>\n",
       "      <td>22.2</td>\n",
       "      <td>22.8</td>\n",
       "      <td>0.31</td>\n",
       "      <td>53%</td>\n",
       "      <td>531</td>\n",
       "      <td>524</td>\n",
       "      <td>1055</td>\n",
       "      <td>0.53</td>\n",
       "    </tr>\n",
       "  </tbody>\n",
       "</table>\n",
       "</div>"
      ],
      "text/plain": [
       "        State Participation_ACT  English_ACT  Math_ACT  Reading_ACT  \\\n",
       "0     Alabama              100%         18.9      18.4         19.7   \n",
       "1      Alaska               65%         18.7      19.8         20.4   \n",
       "2     Arizona               62%         18.6      19.8         20.1   \n",
       "3    Arkansas              100%         18.9      19.0         19.7   \n",
       "4  California               31%         22.5      22.7         23.1   \n",
       "\n",
       "   Science_ACT  Composite_ACT  Participation_float_ACT Participation_SAT  \\\n",
       "0         19.4           19.2                     1.00                5%   \n",
       "1         19.9           19.8                     0.65               38%   \n",
       "2         19.8           19.7                     0.62               30%   \n",
       "3         19.5           19.4                     1.00                3%   \n",
       "4         22.2           22.8                     0.31               53%   \n",
       "\n",
       "   Reading_SAT  Math_SAT  Total_SAT  Participation_float_SAT  \n",
       "0          593       572       1165                     0.05  \n",
       "1          547       533       1080                     0.38  \n",
       "2          563       553       1116                     0.30  \n",
       "3          614       594       1208                     0.03  \n",
       "4          531       524       1055                     0.53  "
      ]
     },
     "execution_count": 24,
     "metadata": {},
     "output_type": "execute_result"
    }
   ],
   "source": [
    "comb_df_col.head()"
   ]
  },
  {
   "cell_type": "code",
   "execution_count": 25,
   "metadata": {
    "scrolled": true
   },
   "outputs": [
    {
     "data": {
      "text/plain": [
       "Index(['State', 'Participation_ACT', 'English_ACT', 'Math_ACT', 'Reading_ACT',\n",
       "       'Science_ACT', 'Composite_ACT', 'Participation_float_ACT',\n",
       "       'Participation_SAT', 'Reading_SAT', 'Math_SAT', 'Total_SAT',\n",
       "       'Participation_float_SAT'],\n",
       "      dtype='object')"
      ]
     },
     "execution_count": 25,
     "metadata": {},
     "output_type": "execute_result"
    }
   ],
   "source": [
    "comb_df_col.columns"
   ]
  },
  {
   "cell_type": "markdown",
   "metadata": {},
   "source": [
    "##### 11. Print the minimum and maximum of each numeric column in the data frame."
   ]
  },
  {
   "cell_type": "code",
   "execution_count": 26,
   "metadata": {},
   "outputs": [
    {
     "data": {
      "text/plain": [
       "English_ACT                  25.5\n",
       "Math_ACT                     25.3\n",
       "Reading_ACT                  26.0\n",
       "Science_ACT                  24.9\n",
       "Composite_ACT                25.5\n",
       "Participation_float_ACT       1.0\n",
       "Reading_SAT                 644.0\n",
       "Math_SAT                    651.0\n",
       "Total_SAT                  1295.0\n",
       "Participation_float_SAT       1.0\n",
       "dtype: float64"
      ]
     },
     "execution_count": 26,
     "metadata": {},
     "output_type": "execute_result"
    }
   ],
   "source": [
    "comb_df_col._get_numeric_data().max()"
   ]
  },
  {
   "cell_type": "code",
   "execution_count": 27,
   "metadata": {},
   "outputs": [
    {
     "data": {
      "text/plain": [
       "English_ACT                 16.30\n",
       "Math_ACT                    18.00\n",
       "Reading_ACT                 18.10\n",
       "Science_ACT                 18.20\n",
       "Composite_ACT               17.80\n",
       "Participation_float_ACT      0.08\n",
       "Reading_SAT                482.00\n",
       "Math_SAT                   468.00\n",
       "Total_SAT                  950.00\n",
       "Participation_float_SAT      0.02\n",
       "dtype: float64"
      ]
     },
     "execution_count": 27,
     "metadata": {},
     "output_type": "execute_result"
    }
   ],
   "source": [
    "comb_df_col._get_numeric_data().min()"
   ]
  },
  {
   "cell_type": "markdown",
   "metadata": {},
   "source": [
    "##### 12. Write a function using only list comprehensions, no loops, to compute standard deviation. Using this function, calculate the standard deviation of each numeric column in both data sets. Add these to a list called `sd`.\n",
    "\n",
    "$$\\sigma = \\sqrt{\\frac{1}{n}\\sum_{i=1}^n(x_i - \\mu)^2}$$"
   ]
  },
  {
   "cell_type": "code",
   "execution_count": 28,
   "metadata": {},
   "outputs": [],
   "source": [
    "#create participation float column to replace \n",
    "comb_df_col.drop('Participation_SAT', axis=1,inplace=True)"
   ]
  },
  {
   "cell_type": "code",
   "execution_count": 29,
   "metadata": {},
   "outputs": [],
   "source": [
    "#create participation float column to replace \n",
    "comb_df_col.drop('Participation_ACT', axis=1,inplace=True)"
   ]
  },
  {
   "cell_type": "code",
   "execution_count": 30,
   "metadata": {},
   "outputs": [],
   "source": [
    "numeric_col = comb_df_col.drop('State', axis=1)"
   ]
  },
  {
   "cell_type": "code",
   "execution_count": 31,
   "metadata": {},
   "outputs": [],
   "source": [
    "#create a function to calculate standard deviation without using np.std and for loop\n",
    "def std_dev(col):\n",
    "    ### col: the column name on datafram###\n",
    "    \n",
    "    deviation = numeric_col[col] - np.mean(numeric_col[col])\n",
    "    sum_square_deviation = np.sum(deviation **2)\n",
    "    variance = sum_square_deviation/len(numeric_col[col])\n",
    "    std_dev = variance**0.5                                \n",
    "    return std_dev"
   ]
  },
  {
   "cell_type": "code",
   "execution_count": 32,
   "metadata": {},
   "outputs": [
    {
     "data": {
      "text/html": [
       "<div>\n",
       "<style scoped>\n",
       "    .dataframe tbody tr th:only-of-type {\n",
       "        vertical-align: middle;\n",
       "    }\n",
       "\n",
       "    .dataframe tbody tr th {\n",
       "        vertical-align: top;\n",
       "    }\n",
       "\n",
       "    .dataframe thead th {\n",
       "        text-align: right;\n",
       "    }\n",
       "</style>\n",
       "<table border=\"1\" class=\"dataframe\">\n",
       "  <thead>\n",
       "    <tr style=\"text-align: right;\">\n",
       "      <th></th>\n",
       "      <th>English_ACT</th>\n",
       "      <th>Math_ACT</th>\n",
       "      <th>Reading_ACT</th>\n",
       "      <th>Science_ACT</th>\n",
       "      <th>Composite_ACT</th>\n",
       "      <th>Participation_float_ACT</th>\n",
       "      <th>Reading_SAT</th>\n",
       "      <th>Math_SAT</th>\n",
       "      <th>Total_SAT</th>\n",
       "      <th>Participation_float_SAT</th>\n",
       "    </tr>\n",
       "  </thead>\n",
       "  <tbody>\n",
       "    <tr>\n",
       "      <th>0</th>\n",
       "      <td>18.9</td>\n",
       "      <td>18.4</td>\n",
       "      <td>19.7</td>\n",
       "      <td>19.4</td>\n",
       "      <td>19.2</td>\n",
       "      <td>1.00</td>\n",
       "      <td>593</td>\n",
       "      <td>572</td>\n",
       "      <td>1165</td>\n",
       "      <td>0.05</td>\n",
       "    </tr>\n",
       "    <tr>\n",
       "      <th>1</th>\n",
       "      <td>18.7</td>\n",
       "      <td>19.8</td>\n",
       "      <td>20.4</td>\n",
       "      <td>19.9</td>\n",
       "      <td>19.8</td>\n",
       "      <td>0.65</td>\n",
       "      <td>547</td>\n",
       "      <td>533</td>\n",
       "      <td>1080</td>\n",
       "      <td>0.38</td>\n",
       "    </tr>\n",
       "    <tr>\n",
       "      <th>2</th>\n",
       "      <td>18.6</td>\n",
       "      <td>19.8</td>\n",
       "      <td>20.1</td>\n",
       "      <td>19.8</td>\n",
       "      <td>19.7</td>\n",
       "      <td>0.62</td>\n",
       "      <td>563</td>\n",
       "      <td>553</td>\n",
       "      <td>1116</td>\n",
       "      <td>0.30</td>\n",
       "    </tr>\n",
       "    <tr>\n",
       "      <th>3</th>\n",
       "      <td>18.9</td>\n",
       "      <td>19.0</td>\n",
       "      <td>19.7</td>\n",
       "      <td>19.5</td>\n",
       "      <td>19.4</td>\n",
       "      <td>1.00</td>\n",
       "      <td>614</td>\n",
       "      <td>594</td>\n",
       "      <td>1208</td>\n",
       "      <td>0.03</td>\n",
       "    </tr>\n",
       "    <tr>\n",
       "      <th>4</th>\n",
       "      <td>22.5</td>\n",
       "      <td>22.7</td>\n",
       "      <td>23.1</td>\n",
       "      <td>22.2</td>\n",
       "      <td>22.8</td>\n",
       "      <td>0.31</td>\n",
       "      <td>531</td>\n",
       "      <td>524</td>\n",
       "      <td>1055</td>\n",
       "      <td>0.53</td>\n",
       "    </tr>\n",
       "  </tbody>\n",
       "</table>\n",
       "</div>"
      ],
      "text/plain": [
       "   English_ACT  Math_ACT  Reading_ACT  Science_ACT  Composite_ACT  \\\n",
       "0         18.9      18.4         19.7         19.4           19.2   \n",
       "1         18.7      19.8         20.4         19.9           19.8   \n",
       "2         18.6      19.8         20.1         19.8           19.7   \n",
       "3         18.9      19.0         19.7         19.5           19.4   \n",
       "4         22.5      22.7         23.1         22.2           22.8   \n",
       "\n",
       "   Participation_float_ACT  Reading_SAT  Math_SAT  Total_SAT  \\\n",
       "0                     1.00          593       572       1165   \n",
       "1                     0.65          547       533       1080   \n",
       "2                     0.62          563       553       1116   \n",
       "3                     1.00          614       594       1208   \n",
       "4                     0.31          531       524       1055   \n",
       "\n",
       "   Participation_float_SAT  \n",
       "0                     0.05  \n",
       "1                     0.38  \n",
       "2                     0.30  \n",
       "3                     0.03  \n",
       "4                     0.53  "
      ]
     },
     "execution_count": 32,
     "metadata": {},
     "output_type": "execute_result"
    }
   ],
   "source": [
    "numeric_col.head()"
   ]
  },
  {
   "cell_type": "code",
   "execution_count": 33,
   "metadata": {},
   "outputs": [
    {
     "data": {
      "text/html": [
       "<div>\n",
       "<style scoped>\n",
       "    .dataframe tbody tr th:only-of-type {\n",
       "        vertical-align: middle;\n",
       "    }\n",
       "\n",
       "    .dataframe tbody tr th {\n",
       "        vertical-align: top;\n",
       "    }\n",
       "\n",
       "    .dataframe thead th {\n",
       "        text-align: right;\n",
       "    }\n",
       "</style>\n",
       "<table border=\"1\" class=\"dataframe\">\n",
       "  <thead>\n",
       "    <tr style=\"text-align: right;\">\n",
       "      <th></th>\n",
       "      <th>std_dev</th>\n",
       "    </tr>\n",
       "    <tr>\n",
       "      <th>cat</th>\n",
       "      <th></th>\n",
       "    </tr>\n",
       "  </thead>\n",
       "  <tbody>\n",
       "    <tr>\n",
       "      <th>English_ACT</th>\n",
       "      <td>2.330488</td>\n",
       "    </tr>\n",
       "    <tr>\n",
       "      <th>Math_ACT</th>\n",
       "      <td>1.962462</td>\n",
       "    </tr>\n",
       "    <tr>\n",
       "      <th>Reading_ACT</th>\n",
       "      <td>2.046903</td>\n",
       "    </tr>\n",
       "    <tr>\n",
       "      <th>Science_ACT</th>\n",
       "      <td>1.722216</td>\n",
       "    </tr>\n",
       "    <tr>\n",
       "      <th>Composite_ACT</th>\n",
       "      <td>2.000786</td>\n",
       "    </tr>\n",
       "    <tr>\n",
       "      <th>Participation_float_ACT</th>\n",
       "      <td>0.318242</td>\n",
       "    </tr>\n",
       "    <tr>\n",
       "      <th>Reading_SAT</th>\n",
       "      <td>45.216970</td>\n",
       "    </tr>\n",
       "    <tr>\n",
       "      <th>Math_SAT</th>\n",
       "      <td>46.657134</td>\n",
       "    </tr>\n",
       "    <tr>\n",
       "      <th>Total_SAT</th>\n",
       "      <td>91.583511</td>\n",
       "    </tr>\n",
       "    <tr>\n",
       "      <th>Participation_float_SAT</th>\n",
       "      <td>0.349291</td>\n",
       "    </tr>\n",
       "  </tbody>\n",
       "</table>\n",
       "</div>"
      ],
      "text/plain": [
       "                           std_dev\n",
       "cat                               \n",
       "English_ACT               2.330488\n",
       "Math_ACT                  1.962462\n",
       "Reading_ACT               2.046903\n",
       "Science_ACT               1.722216\n",
       "Composite_ACT             2.000786\n",
       "Participation_float_ACT   0.318242\n",
       "Reading_SAT              45.216970\n",
       "Math_SAT                 46.657134\n",
       "Total_SAT                91.583511\n",
       "Participation_float_SAT   0.349291"
      ]
     },
     "execution_count": 33,
     "metadata": {},
     "output_type": "execute_result"
    }
   ],
   "source": [
    "std_dev_df = pd.DataFrame()\n",
    "std_dev_df['cat'] = [i for i in numeric_col]\n",
    "std_dev_df['std_dev'] = [std_dev(i) for i in numeric_col]\n",
    "std_dev_df.set_index('cat', inplace=True)\n",
    "std_dev_df"
   ]
  },
  {
   "cell_type": "code",
   "execution_count": 34,
   "metadata": {},
   "outputs": [
    {
     "data": {
      "text/plain": [
       "English_ACT                 2.330488\n",
       "Math_ACT                    1.962462\n",
       "Reading_ACT                 2.046903\n",
       "Science_ACT                 1.722216\n",
       "Composite_ACT               2.000786\n",
       "Participation_float_ACT     0.318242\n",
       "Reading_SAT                45.216970\n",
       "Math_SAT                   46.657134\n",
       "Total_SAT                  91.583511\n",
       "Participation_float_SAT     0.349291\n",
       "dtype: float64"
      ]
     },
     "execution_count": 34,
     "metadata": {},
     "output_type": "execute_result"
    }
   ],
   "source": [
    "np.std(numeric_col, ddof=0) # use np.std to check the my function above"
   ]
  },
  {
   "cell_type": "code",
   "execution_count": 35,
   "metadata": {},
   "outputs": [
    {
     "data": {
      "text/plain": [
       "[2.3304876369363368,\n",
       " 1.9624620273436781,\n",
       " 2.046902931484265,\n",
       " 1.7222161451443672,\n",
       " 2.0007860815819893,\n",
       " 0.31824175751231804,\n",
       " 45.21697020437866,\n",
       " 46.65713364485504,\n",
       " 91.58351056778743,\n",
       " 0.3492907076664507]"
      ]
     },
     "execution_count": 35,
     "metadata": {},
     "output_type": "execute_result"
    }
   ],
   "source": [
    "sd = std_dev_df['std_dev'].tolist()\n",
    "sd"
   ]
  },
  {
   "cell_type": "markdown",
   "metadata": {},
   "source": [
    "## Step 2: Manipulate the dataframe"
   ]
  },
  {
   "cell_type": "markdown",
   "metadata": {},
   "source": [
    "##### 13. Turn the list `sd` into a new observation in your dataset."
   ]
  },
  {
   "cell_type": "code",
   "execution_count": 36,
   "metadata": {},
   "outputs": [],
   "source": [
    "stats_info = numeric_col.describe().T"
   ]
  },
  {
   "cell_type": "code",
   "execution_count": 37,
   "metadata": {},
   "outputs": [],
   "source": [
    "stats_info['sd'] = sd #add a column on (df.describe) to show 'sd'"
   ]
  },
  {
   "cell_type": "code",
   "execution_count": 38,
   "metadata": {},
   "outputs": [
    {
     "data": {
      "text/html": [
       "<div>\n",
       "<style scoped>\n",
       "    .dataframe tbody tr th:only-of-type {\n",
       "        vertical-align: middle;\n",
       "    }\n",
       "\n",
       "    .dataframe tbody tr th {\n",
       "        vertical-align: top;\n",
       "    }\n",
       "\n",
       "    .dataframe thead th {\n",
       "        text-align: right;\n",
       "    }\n",
       "</style>\n",
       "<table border=\"1\" class=\"dataframe\">\n",
       "  <thead>\n",
       "    <tr style=\"text-align: right;\">\n",
       "      <th></th>\n",
       "      <th>count</th>\n",
       "      <th>mean</th>\n",
       "      <th>std</th>\n",
       "      <th>min</th>\n",
       "      <th>25%</th>\n",
       "      <th>50%</th>\n",
       "      <th>75%</th>\n",
       "      <th>max</th>\n",
       "      <th>sd</th>\n",
       "    </tr>\n",
       "  </thead>\n",
       "  <tbody>\n",
       "    <tr>\n",
       "      <th>English_ACT</th>\n",
       "      <td>51.0</td>\n",
       "      <td>20.931373</td>\n",
       "      <td>2.353677</td>\n",
       "      <td>16.30</td>\n",
       "      <td>19.00</td>\n",
       "      <td>20.70</td>\n",
       "      <td>23.30</td>\n",
       "      <td>25.5</td>\n",
       "      <td>2.330488</td>\n",
       "    </tr>\n",
       "    <tr>\n",
       "      <th>Math_ACT</th>\n",
       "      <td>51.0</td>\n",
       "      <td>21.182353</td>\n",
       "      <td>1.981989</td>\n",
       "      <td>18.00</td>\n",
       "      <td>19.40</td>\n",
       "      <td>20.90</td>\n",
       "      <td>23.10</td>\n",
       "      <td>25.3</td>\n",
       "      <td>1.962462</td>\n",
       "    </tr>\n",
       "    <tr>\n",
       "      <th>Reading_ACT</th>\n",
       "      <td>51.0</td>\n",
       "      <td>22.013725</td>\n",
       "      <td>2.067271</td>\n",
       "      <td>18.10</td>\n",
       "      <td>20.45</td>\n",
       "      <td>21.80</td>\n",
       "      <td>24.15</td>\n",
       "      <td>26.0</td>\n",
       "      <td>2.046903</td>\n",
       "    </tr>\n",
       "    <tr>\n",
       "      <th>Science_ACT</th>\n",
       "      <td>51.0</td>\n",
       "      <td>21.450980</td>\n",
       "      <td>1.739353</td>\n",
       "      <td>18.20</td>\n",
       "      <td>19.95</td>\n",
       "      <td>21.30</td>\n",
       "      <td>23.20</td>\n",
       "      <td>24.9</td>\n",
       "      <td>1.722216</td>\n",
       "    </tr>\n",
       "    <tr>\n",
       "      <th>Composite_ACT</th>\n",
       "      <td>51.0</td>\n",
       "      <td>21.519608</td>\n",
       "      <td>2.020695</td>\n",
       "      <td>17.80</td>\n",
       "      <td>19.80</td>\n",
       "      <td>21.40</td>\n",
       "      <td>23.60</td>\n",
       "      <td>25.5</td>\n",
       "      <td>2.000786</td>\n",
       "    </tr>\n",
       "    <tr>\n",
       "      <th>Participation_float_ACT</th>\n",
       "      <td>51.0</td>\n",
       "      <td>0.652549</td>\n",
       "      <td>0.321408</td>\n",
       "      <td>0.08</td>\n",
       "      <td>0.31</td>\n",
       "      <td>0.69</td>\n",
       "      <td>1.00</td>\n",
       "      <td>1.0</td>\n",
       "      <td>0.318242</td>\n",
       "    </tr>\n",
       "    <tr>\n",
       "      <th>Reading_SAT</th>\n",
       "      <td>51.0</td>\n",
       "      <td>569.117647</td>\n",
       "      <td>45.666901</td>\n",
       "      <td>482.00</td>\n",
       "      <td>533.50</td>\n",
       "      <td>559.00</td>\n",
       "      <td>613.00</td>\n",
       "      <td>644.0</td>\n",
       "      <td>45.216970</td>\n",
       "    </tr>\n",
       "    <tr>\n",
       "      <th>Math_SAT</th>\n",
       "      <td>51.0</td>\n",
       "      <td>556.882353</td>\n",
       "      <td>47.121395</td>\n",
       "      <td>468.00</td>\n",
       "      <td>523.50</td>\n",
       "      <td>548.00</td>\n",
       "      <td>599.00</td>\n",
       "      <td>651.0</td>\n",
       "      <td>46.657134</td>\n",
       "    </tr>\n",
       "    <tr>\n",
       "      <th>Total_SAT</th>\n",
       "      <td>51.0</td>\n",
       "      <td>1126.098039</td>\n",
       "      <td>92.494812</td>\n",
       "      <td>950.00</td>\n",
       "      <td>1055.50</td>\n",
       "      <td>1107.00</td>\n",
       "      <td>1212.00</td>\n",
       "      <td>1295.0</td>\n",
       "      <td>91.583511</td>\n",
       "    </tr>\n",
       "    <tr>\n",
       "      <th>Participation_float_SAT</th>\n",
       "      <td>51.0</td>\n",
       "      <td>0.398039</td>\n",
       "      <td>0.352766</td>\n",
       "      <td>0.02</td>\n",
       "      <td>0.04</td>\n",
       "      <td>0.38</td>\n",
       "      <td>0.66</td>\n",
       "      <td>1.0</td>\n",
       "      <td>0.349291</td>\n",
       "    </tr>\n",
       "  </tbody>\n",
       "</table>\n",
       "</div>"
      ],
      "text/plain": [
       "                         count         mean        std     min      25%  \\\n",
       "English_ACT               51.0    20.931373   2.353677   16.30    19.00   \n",
       "Math_ACT                  51.0    21.182353   1.981989   18.00    19.40   \n",
       "Reading_ACT               51.0    22.013725   2.067271   18.10    20.45   \n",
       "Science_ACT               51.0    21.450980   1.739353   18.20    19.95   \n",
       "Composite_ACT             51.0    21.519608   2.020695   17.80    19.80   \n",
       "Participation_float_ACT   51.0     0.652549   0.321408    0.08     0.31   \n",
       "Reading_SAT               51.0   569.117647  45.666901  482.00   533.50   \n",
       "Math_SAT                  51.0   556.882353  47.121395  468.00   523.50   \n",
       "Total_SAT                 51.0  1126.098039  92.494812  950.00  1055.50   \n",
       "Participation_float_SAT   51.0     0.398039   0.352766    0.02     0.04   \n",
       "\n",
       "                             50%      75%     max         sd  \n",
       "English_ACT                20.70    23.30    25.5   2.330488  \n",
       "Math_ACT                   20.90    23.10    25.3   1.962462  \n",
       "Reading_ACT                21.80    24.15    26.0   2.046903  \n",
       "Science_ACT                21.30    23.20    24.9   1.722216  \n",
       "Composite_ACT              21.40    23.60    25.5   2.000786  \n",
       "Participation_float_ACT     0.69     1.00     1.0   0.318242  \n",
       "Reading_SAT               559.00   613.00   644.0  45.216970  \n",
       "Math_SAT                  548.00   599.00   651.0  46.657134  \n",
       "Total_SAT                1107.00  1212.00  1295.0  91.583511  \n",
       "Participation_float_SAT     0.38     0.66     1.0   0.349291  "
      ]
     },
     "execution_count": 38,
     "metadata": {},
     "output_type": "execute_result"
    }
   ],
   "source": [
    "stats_info"
   ]
  },
  {
   "cell_type": "markdown",
   "metadata": {},
   "source": [
    "##### 14. Sort the dataframe by the values in a numeric column (e.g. observations descending by SAT participation rate)"
   ]
  },
  {
   "cell_type": "code",
   "execution_count": 39,
   "metadata": {},
   "outputs": [
    {
     "data": {
      "text/html": [
       "<div>\n",
       "<style scoped>\n",
       "    .dataframe tbody tr th:only-of-type {\n",
       "        vertical-align: middle;\n",
       "    }\n",
       "\n",
       "    .dataframe tbody tr th {\n",
       "        vertical-align: top;\n",
       "    }\n",
       "\n",
       "    .dataframe thead th {\n",
       "        text-align: right;\n",
       "    }\n",
       "</style>\n",
       "<table border=\"1\" class=\"dataframe\">\n",
       "  <thead>\n",
       "    <tr style=\"text-align: right;\">\n",
       "      <th></th>\n",
       "      <th>State</th>\n",
       "      <th>English_ACT</th>\n",
       "      <th>Math_ACT</th>\n",
       "      <th>Reading_ACT</th>\n",
       "      <th>Science_ACT</th>\n",
       "      <th>Composite_ACT</th>\n",
       "      <th>Participation_float_ACT</th>\n",
       "      <th>Reading_SAT</th>\n",
       "      <th>Math_SAT</th>\n",
       "      <th>Total_SAT</th>\n",
       "      <th>Participation_float_SAT</th>\n",
       "    </tr>\n",
       "  </thead>\n",
       "  <tbody>\n",
       "    <tr>\n",
       "      <th>0</th>\n",
       "      <td>Alabama</td>\n",
       "      <td>18.9</td>\n",
       "      <td>18.4</td>\n",
       "      <td>19.7</td>\n",
       "      <td>19.4</td>\n",
       "      <td>19.2</td>\n",
       "      <td>1.0</td>\n",
       "      <td>593</td>\n",
       "      <td>572</td>\n",
       "      <td>1165</td>\n",
       "      <td>0.05</td>\n",
       "    </tr>\n",
       "    <tr>\n",
       "      <th>17</th>\n",
       "      <td>Kentucky</td>\n",
       "      <td>19.6</td>\n",
       "      <td>19.4</td>\n",
       "      <td>20.5</td>\n",
       "      <td>20.1</td>\n",
       "      <td>20.0</td>\n",
       "      <td>1.0</td>\n",
       "      <td>631</td>\n",
       "      <td>616</td>\n",
       "      <td>1247</td>\n",
       "      <td>0.04</td>\n",
       "    </tr>\n",
       "    <tr>\n",
       "      <th>49</th>\n",
       "      <td>Wisconsin</td>\n",
       "      <td>19.7</td>\n",
       "      <td>20.4</td>\n",
       "      <td>20.6</td>\n",
       "      <td>20.9</td>\n",
       "      <td>20.5</td>\n",
       "      <td>1.0</td>\n",
       "      <td>642</td>\n",
       "      <td>649</td>\n",
       "      <td>1291</td>\n",
       "      <td>0.03</td>\n",
       "    </tr>\n",
       "    <tr>\n",
       "      <th>44</th>\n",
       "      <td>Utah</td>\n",
       "      <td>19.5</td>\n",
       "      <td>19.9</td>\n",
       "      <td>20.8</td>\n",
       "      <td>20.6</td>\n",
       "      <td>20.3</td>\n",
       "      <td>1.0</td>\n",
       "      <td>624</td>\n",
       "      <td>614</td>\n",
       "      <td>1238</td>\n",
       "      <td>0.03</td>\n",
       "    </tr>\n",
       "    <tr>\n",
       "      <th>42</th>\n",
       "      <td>Tennessee</td>\n",
       "      <td>19.5</td>\n",
       "      <td>19.2</td>\n",
       "      <td>20.1</td>\n",
       "      <td>19.9</td>\n",
       "      <td>19.8</td>\n",
       "      <td>1.0</td>\n",
       "      <td>623</td>\n",
       "      <td>604</td>\n",
       "      <td>1228</td>\n",
       "      <td>0.05</td>\n",
       "    </tr>\n",
       "    <tr>\n",
       "      <th>40</th>\n",
       "      <td>South Carolina</td>\n",
       "      <td>17.5</td>\n",
       "      <td>18.6</td>\n",
       "      <td>19.1</td>\n",
       "      <td>18.9</td>\n",
       "      <td>18.7</td>\n",
       "      <td>1.0</td>\n",
       "      <td>543</td>\n",
       "      <td>521</td>\n",
       "      <td>1064</td>\n",
       "      <td>0.50</td>\n",
       "    </tr>\n",
       "    <tr>\n",
       "      <th>36</th>\n",
       "      <td>Oklahoma</td>\n",
       "      <td>18.5</td>\n",
       "      <td>18.8</td>\n",
       "      <td>20.1</td>\n",
       "      <td>19.6</td>\n",
       "      <td>19.4</td>\n",
       "      <td>1.0</td>\n",
       "      <td>530</td>\n",
       "      <td>517</td>\n",
       "      <td>1047</td>\n",
       "      <td>0.07</td>\n",
       "    </tr>\n",
       "    <tr>\n",
       "      <th>33</th>\n",
       "      <td>North Carolina</td>\n",
       "      <td>17.8</td>\n",
       "      <td>19.3</td>\n",
       "      <td>19.6</td>\n",
       "      <td>19.3</td>\n",
       "      <td>19.1</td>\n",
       "      <td>1.0</td>\n",
       "      <td>546</td>\n",
       "      <td>535</td>\n",
       "      <td>1081</td>\n",
       "      <td>0.49</td>\n",
       "    </tr>\n",
       "    <tr>\n",
       "      <th>28</th>\n",
       "      <td>Nevada</td>\n",
       "      <td>16.3</td>\n",
       "      <td>18.0</td>\n",
       "      <td>18.1</td>\n",
       "      <td>18.2</td>\n",
       "      <td>17.8</td>\n",
       "      <td>1.0</td>\n",
       "      <td>563</td>\n",
       "      <td>553</td>\n",
       "      <td>1116</td>\n",
       "      <td>0.26</td>\n",
       "    </tr>\n",
       "    <tr>\n",
       "      <th>26</th>\n",
       "      <td>Montana</td>\n",
       "      <td>19.0</td>\n",
       "      <td>20.2</td>\n",
       "      <td>21.0</td>\n",
       "      <td>20.5</td>\n",
       "      <td>20.3</td>\n",
       "      <td>1.0</td>\n",
       "      <td>605</td>\n",
       "      <td>591</td>\n",
       "      <td>1196</td>\n",
       "      <td>0.10</td>\n",
       "    </tr>\n",
       "  </tbody>\n",
       "</table>\n",
       "</div>"
      ],
      "text/plain": [
       "             State  English_ACT  Math_ACT  Reading_ACT  Science_ACT  \\\n",
       "0          Alabama         18.9      18.4         19.7         19.4   \n",
       "17        Kentucky         19.6      19.4         20.5         20.1   \n",
       "49       Wisconsin         19.7      20.4         20.6         20.9   \n",
       "44            Utah         19.5      19.9         20.8         20.6   \n",
       "42       Tennessee         19.5      19.2         20.1         19.9   \n",
       "40  South Carolina         17.5      18.6         19.1         18.9   \n",
       "36        Oklahoma         18.5      18.8         20.1         19.6   \n",
       "33  North Carolina         17.8      19.3         19.6         19.3   \n",
       "28          Nevada         16.3      18.0         18.1         18.2   \n",
       "26         Montana         19.0      20.2         21.0         20.5   \n",
       "\n",
       "    Composite_ACT  Participation_float_ACT  Reading_SAT  Math_SAT  Total_SAT  \\\n",
       "0            19.2                      1.0          593       572       1165   \n",
       "17           20.0                      1.0          631       616       1247   \n",
       "49           20.5                      1.0          642       649       1291   \n",
       "44           20.3                      1.0          624       614       1238   \n",
       "42           19.8                      1.0          623       604       1228   \n",
       "40           18.7                      1.0          543       521       1064   \n",
       "36           19.4                      1.0          530       517       1047   \n",
       "33           19.1                      1.0          546       535       1081   \n",
       "28           17.8                      1.0          563       553       1116   \n",
       "26           20.3                      1.0          605       591       1196   \n",
       "\n",
       "    Participation_float_SAT  \n",
       "0                      0.05  \n",
       "17                     0.04  \n",
       "49                     0.03  \n",
       "44                     0.03  \n",
       "42                     0.05  \n",
       "40                     0.50  \n",
       "36                     0.07  \n",
       "33                     0.49  \n",
       "28                     0.26  \n",
       "26                     0.10  "
      ]
     },
     "execution_count": 39,
     "metadata": {},
     "output_type": "execute_result"
    }
   ],
   "source": [
    "comb_df_col.sort_values(by=['Participation_float_ACT'],ascending=False).head(10)"
   ]
  },
  {
   "cell_type": "markdown",
   "metadata": {},
   "source": [
    "##### 15. Use a boolean filter to display only observations with a score above a certain threshold (e.g. only states with a participation rate above 50%)"
   ]
  },
  {
   "cell_type": "code",
   "execution_count": 40,
   "metadata": {},
   "outputs": [
    {
     "data": {
      "text/html": [
       "<div>\n",
       "<style scoped>\n",
       "    .dataframe tbody tr th:only-of-type {\n",
       "        vertical-align: middle;\n",
       "    }\n",
       "\n",
       "    .dataframe tbody tr th {\n",
       "        vertical-align: top;\n",
       "    }\n",
       "\n",
       "    .dataframe thead th {\n",
       "        text-align: right;\n",
       "    }\n",
       "</style>\n",
       "<table border=\"1\" class=\"dataframe\">\n",
       "  <thead>\n",
       "    <tr style=\"text-align: right;\">\n",
       "      <th></th>\n",
       "      <th>State</th>\n",
       "      <th>English_ACT</th>\n",
       "      <th>Math_ACT</th>\n",
       "      <th>Reading_ACT</th>\n",
       "      <th>Science_ACT</th>\n",
       "      <th>Composite_ACT</th>\n",
       "      <th>Participation_float_ACT</th>\n",
       "      <th>Reading_SAT</th>\n",
       "      <th>Math_SAT</th>\n",
       "      <th>Total_SAT</th>\n",
       "      <th>Participation_float_SAT</th>\n",
       "    </tr>\n",
       "  </thead>\n",
       "  <tbody>\n",
       "    <tr>\n",
       "      <th>9</th>\n",
       "      <td>Florida</td>\n",
       "      <td>19.0</td>\n",
       "      <td>19.4</td>\n",
       "      <td>21.0</td>\n",
       "      <td>19.4</td>\n",
       "      <td>19.8</td>\n",
       "      <td>0.73</td>\n",
       "      <td>520</td>\n",
       "      <td>497</td>\n",
       "      <td>1017</td>\n",
       "      <td>0.83</td>\n",
       "    </tr>\n",
       "    <tr>\n",
       "      <th>10</th>\n",
       "      <td>Georgia</td>\n",
       "      <td>21.0</td>\n",
       "      <td>20.9</td>\n",
       "      <td>22.0</td>\n",
       "      <td>21.3</td>\n",
       "      <td>21.4</td>\n",
       "      <td>0.55</td>\n",
       "      <td>535</td>\n",
       "      <td>515</td>\n",
       "      <td>1050</td>\n",
       "      <td>0.61</td>\n",
       "    </tr>\n",
       "    <tr>\n",
       "      <th>11</th>\n",
       "      <td>Hawaii</td>\n",
       "      <td>17.8</td>\n",
       "      <td>19.2</td>\n",
       "      <td>19.2</td>\n",
       "      <td>19.3</td>\n",
       "      <td>19.0</td>\n",
       "      <td>0.90</td>\n",
       "      <td>544</td>\n",
       "      <td>541</td>\n",
       "      <td>1085</td>\n",
       "      <td>0.55</td>\n",
       "    </tr>\n",
       "    <tr>\n",
       "      <th>40</th>\n",
       "      <td>South Carolina</td>\n",
       "      <td>17.5</td>\n",
       "      <td>18.6</td>\n",
       "      <td>19.1</td>\n",
       "      <td>18.9</td>\n",
       "      <td>18.7</td>\n",
       "      <td>1.00</td>\n",
       "      <td>543</td>\n",
       "      <td>521</td>\n",
       "      <td>1064</td>\n",
       "      <td>0.50</td>\n",
       "    </tr>\n",
       "  </tbody>\n",
       "</table>\n",
       "</div>"
      ],
      "text/plain": [
       "             State  English_ACT  Math_ACT  Reading_ACT  Science_ACT  \\\n",
       "9          Florida         19.0      19.4         21.0         19.4   \n",
       "10         Georgia         21.0      20.9         22.0         21.3   \n",
       "11          Hawaii         17.8      19.2         19.2         19.3   \n",
       "40  South Carolina         17.5      18.6         19.1         18.9   \n",
       "\n",
       "    Composite_ACT  Participation_float_ACT  Reading_SAT  Math_SAT  Total_SAT  \\\n",
       "9            19.8                     0.73          520       497       1017   \n",
       "10           21.4                     0.55          535       515       1050   \n",
       "11           19.0                     0.90          544       541       1085   \n",
       "40           18.7                     1.00          543       521       1064   \n",
       "\n",
       "    Participation_float_SAT  \n",
       "9                      0.83  \n",
       "10                     0.61  \n",
       "11                     0.55  \n",
       "40                     0.50  "
      ]
     },
     "execution_count": 40,
     "metadata": {},
     "output_type": "execute_result"
    }
   ],
   "source": [
    "comb_df_col[(comb_df_col['Participation_float_ACT']>=0.5) & (comb_df_col['Participation_float_SAT']>=0.5)]"
   ]
  },
  {
   "cell_type": "markdown",
   "metadata": {},
   "source": [
    "## Step 3: Visualize the data"
   ]
  },
  {
   "cell_type": "markdown",
   "metadata": {
    "collapsed": true
   },
   "source": [
    "##### 16. Using MatPlotLib and PyPlot, plot the distribution of the Rate columns for both SAT and ACT using histograms. (You should have two histograms. You might find [this link](https://matplotlib.org/users/pyplot_tutorial.html#working-with-multiple-figures-and-axes) helpful in organizing one plot above the other.) "
   ]
  },
  {
   "cell_type": "code",
   "execution_count": 41,
   "metadata": {},
   "outputs": [
    {
     "data": {
      "image/png": "[encoded data removed]",
      "text/plain": [
       "<Figure size 432x504 with 2 Axes>"
      ]
     },
     "metadata": {},
     "output_type": "display_data"
    }
   ],
   "source": [
    "f, ax = plt.subplots(2, figsize=(6,7))\n",
    "ax[0].hist(comb_df_col['Participation_float_ACT']);\n",
    "ax[0].title.set_text('ACT Participation Rate')\n",
    "ax[1].hist(comb_df_col['Participation_float_SAT']);\n",
    "ax[1].title.set_text('SAT Participation Rate')\n"
   ]
  },
  {
   "cell_type": "markdown",
   "metadata": {},
   "source": [
    "##### 17. Plot the Math(s) distributions from both data sets."
   ]
  },
  {
   "cell_type": "code",
   "execution_count": 42,
   "metadata": {},
   "outputs": [
    {
     "data": {
      "image/png": "[encoded data removed]",
      "text/plain": [
       "<Figure size 432x504 with 2 Axes>"
      ]
     },
     "metadata": {},
     "output_type": "display_data"
    }
   ],
   "source": [
    "f, ax = plt.subplots(2, figsize=(6,7))\n",
    "ax[0].hist(comb_df_col['Math_ACT']);\n",
    "ax[0].title.set_text('ACT Math Score')\n",
    "ax[1].hist(comb_df_col['Math_SAT']);\n",
    "ax[1].title.set_text('SAT Math Score')"
   ]
  },
  {
   "cell_type": "markdown",
   "metadata": {},
   "source": [
    "##### 18. Plot the Verbal distributions from both data sets."
   ]
  },
  {
   "cell_type": "code",
   "execution_count": 43,
   "metadata": {
    "scrolled": true
   },
   "outputs": [
    {
     "data": {
      "text/html": [
       "<div>\n",
       "<style scoped>\n",
       "    .dataframe tbody tr th:only-of-type {\n",
       "        vertical-align: middle;\n",
       "    }\n",
       "\n",
       "    .dataframe tbody tr th {\n",
       "        vertical-align: top;\n",
       "    }\n",
       "\n",
       "    .dataframe thead th {\n",
       "        text-align: right;\n",
       "    }\n",
       "</style>\n",
       "<table border=\"1\" class=\"dataframe\">\n",
       "  <thead>\n",
       "    <tr style=\"text-align: right;\">\n",
       "      <th></th>\n",
       "      <th>State</th>\n",
       "      <th>English_ACT</th>\n",
       "      <th>Math_ACT</th>\n",
       "      <th>Reading_ACT</th>\n",
       "      <th>Science_ACT</th>\n",
       "      <th>Composite_ACT</th>\n",
       "      <th>Participation_float_ACT</th>\n",
       "      <th>Reading_SAT</th>\n",
       "      <th>Math_SAT</th>\n",
       "      <th>Total_SAT</th>\n",
       "      <th>Participation_float_SAT</th>\n",
       "    </tr>\n",
       "  </thead>\n",
       "  <tbody>\n",
       "    <tr>\n",
       "      <th>0</th>\n",
       "      <td>Alabama</td>\n",
       "      <td>18.9</td>\n",
       "      <td>18.4</td>\n",
       "      <td>19.7</td>\n",
       "      <td>19.4</td>\n",
       "      <td>19.2</td>\n",
       "      <td>1.00</td>\n",
       "      <td>593</td>\n",
       "      <td>572</td>\n",
       "      <td>1165</td>\n",
       "      <td>0.05</td>\n",
       "    </tr>\n",
       "    <tr>\n",
       "      <th>1</th>\n",
       "      <td>Alaska</td>\n",
       "      <td>18.7</td>\n",
       "      <td>19.8</td>\n",
       "      <td>20.4</td>\n",
       "      <td>19.9</td>\n",
       "      <td>19.8</td>\n",
       "      <td>0.65</td>\n",
       "      <td>547</td>\n",
       "      <td>533</td>\n",
       "      <td>1080</td>\n",
       "      <td>0.38</td>\n",
       "    </tr>\n",
       "    <tr>\n",
       "      <th>2</th>\n",
       "      <td>Arizona</td>\n",
       "      <td>18.6</td>\n",
       "      <td>19.8</td>\n",
       "      <td>20.1</td>\n",
       "      <td>19.8</td>\n",
       "      <td>19.7</td>\n",
       "      <td>0.62</td>\n",
       "      <td>563</td>\n",
       "      <td>553</td>\n",
       "      <td>1116</td>\n",
       "      <td>0.30</td>\n",
       "    </tr>\n",
       "    <tr>\n",
       "      <th>3</th>\n",
       "      <td>Arkansas</td>\n",
       "      <td>18.9</td>\n",
       "      <td>19.0</td>\n",
       "      <td>19.7</td>\n",
       "      <td>19.5</td>\n",
       "      <td>19.4</td>\n",
       "      <td>1.00</td>\n",
       "      <td>614</td>\n",
       "      <td>594</td>\n",
       "      <td>1208</td>\n",
       "      <td>0.03</td>\n",
       "    </tr>\n",
       "    <tr>\n",
       "      <th>4</th>\n",
       "      <td>California</td>\n",
       "      <td>22.5</td>\n",
       "      <td>22.7</td>\n",
       "      <td>23.1</td>\n",
       "      <td>22.2</td>\n",
       "      <td>22.8</td>\n",
       "      <td>0.31</td>\n",
       "      <td>531</td>\n",
       "      <td>524</td>\n",
       "      <td>1055</td>\n",
       "      <td>0.53</td>\n",
       "    </tr>\n",
       "  </tbody>\n",
       "</table>\n",
       "</div>"
      ],
      "text/plain": [
       "        State  English_ACT  Math_ACT  Reading_ACT  Science_ACT  Composite_ACT  \\\n",
       "0     Alabama         18.9      18.4         19.7         19.4           19.2   \n",
       "1      Alaska         18.7      19.8         20.4         19.9           19.8   \n",
       "2     Arizona         18.6      19.8         20.1         19.8           19.7   \n",
       "3    Arkansas         18.9      19.0         19.7         19.5           19.4   \n",
       "4  California         22.5      22.7         23.1         22.2           22.8   \n",
       "\n",
       "   Participation_float_ACT  Reading_SAT  Math_SAT  Total_SAT  \\\n",
       "0                     1.00          593       572       1165   \n",
       "1                     0.65          547       533       1080   \n",
       "2                     0.62          563       553       1116   \n",
       "3                     1.00          614       594       1208   \n",
       "4                     0.31          531       524       1055   \n",
       "\n",
       "   Participation_float_SAT  \n",
       "0                     0.05  \n",
       "1                     0.38  \n",
       "2                     0.30  \n",
       "3                     0.03  \n",
       "4                     0.53  "
      ]
     },
     "execution_count": 43,
     "metadata": {},
     "output_type": "execute_result"
    }
   ],
   "source": [
    "comb_df_col.head()"
   ]
  },
  {
   "cell_type": "code",
   "execution_count": 44,
   "metadata": {},
   "outputs": [
    {
     "data": {
      "image/png": "[encoded data removed]",
      "text/plain": [
       "<Figure size 432x504 with 2 Axes>"
      ]
     },
     "metadata": {},
     "output_type": "display_data"
    }
   ],
   "source": [
    "f, ax = plt.subplots(2, figsize=(6,7))\n",
    "ax[0].hist(comb_df_col['English_ACT']);\n",
    "ax[0].title.set_text('ACT Verbal')\n",
    "ax[1].hist(comb_df_col['Reading_SAT']);\n",
    "ax[1].title.set_text('SAT Verbal')"
   ]
  },
  {
   "cell_type": "markdown",
   "metadata": {},
   "source": [
    "##### 19. When we make assumptions about how data are distributed, what is the most common assumption?"
   ]
  },
  {
   "cell_type": "raw",
   "metadata": {},
   "source": [
    "In general, we assume the distribution of data is normally distributed. "
   ]
  },
  {
   "cell_type": "markdown",
   "metadata": {},
   "source": [
    "##### 20. Does this assumption hold true for any of our columns? Which?"
   ]
  },
  {
   "cell_type": "code",
   "execution_count": 45,
   "metadata": {},
   "outputs": [],
   "source": [
    "# calculate p-value to see whether if the score is norally distributed "
   ]
  },
  {
   "cell_type": "code",
   "execution_count": 46,
   "metadata": {},
   "outputs": [
    {
     "data": {
      "text/html": [
       "<div>\n",
       "<style scoped>\n",
       "    .dataframe tbody tr th:only-of-type {\n",
       "        vertical-align: middle;\n",
       "    }\n",
       "\n",
       "    .dataframe tbody tr th {\n",
       "        vertical-align: top;\n",
       "    }\n",
       "\n",
       "    .dataframe thead th {\n",
       "        text-align: right;\n",
       "    }\n",
       "</style>\n",
       "<table border=\"1\" class=\"dataframe\">\n",
       "  <thead>\n",
       "    <tr style=\"text-align: right;\">\n",
       "      <th></th>\n",
       "      <th>English_ACT</th>\n",
       "      <th>Math_ACT</th>\n",
       "      <th>Reading_ACT</th>\n",
       "      <th>Science_ACT</th>\n",
       "      <th>Composite_ACT</th>\n",
       "      <th>Participation_float_ACT</th>\n",
       "      <th>Reading_SAT</th>\n",
       "      <th>Math_SAT</th>\n",
       "      <th>Total_SAT</th>\n",
       "      <th>Participation_float_SAT</th>\n",
       "    </tr>\n",
       "  </thead>\n",
       "  <tbody>\n",
       "    <tr>\n",
       "      <th>count</th>\n",
       "      <td>51.000000</td>\n",
       "      <td>51.000000</td>\n",
       "      <td>51.000000</td>\n",
       "      <td>51.000000</td>\n",
       "      <td>51.000000</td>\n",
       "      <td>51.000000</td>\n",
       "      <td>51.000000</td>\n",
       "      <td>51.000000</td>\n",
       "      <td>51.000000</td>\n",
       "      <td>51.000000</td>\n",
       "    </tr>\n",
       "    <tr>\n",
       "      <th>mean</th>\n",
       "      <td>20.931373</td>\n",
       "      <td>21.182353</td>\n",
       "      <td>22.013725</td>\n",
       "      <td>21.450980</td>\n",
       "      <td>21.519608</td>\n",
       "      <td>0.652549</td>\n",
       "      <td>569.117647</td>\n",
       "      <td>556.882353</td>\n",
       "      <td>1126.098039</td>\n",
       "      <td>0.398039</td>\n",
       "    </tr>\n",
       "    <tr>\n",
       "      <th>std</th>\n",
       "      <td>2.353677</td>\n",
       "      <td>1.981989</td>\n",
       "      <td>2.067271</td>\n",
       "      <td>1.739353</td>\n",
       "      <td>2.020695</td>\n",
       "      <td>0.321408</td>\n",
       "      <td>45.666901</td>\n",
       "      <td>47.121395</td>\n",
       "      <td>92.494812</td>\n",
       "      <td>0.352766</td>\n",
       "    </tr>\n",
       "    <tr>\n",
       "      <th>min</th>\n",
       "      <td>16.300000</td>\n",
       "      <td>18.000000</td>\n",
       "      <td>18.100000</td>\n",
       "      <td>18.200000</td>\n",
       "      <td>17.800000</td>\n",
       "      <td>0.080000</td>\n",
       "      <td>482.000000</td>\n",
       "      <td>468.000000</td>\n",
       "      <td>950.000000</td>\n",
       "      <td>0.020000</td>\n",
       "    </tr>\n",
       "    <tr>\n",
       "      <th>25%</th>\n",
       "      <td>19.000000</td>\n",
       "      <td>19.400000</td>\n",
       "      <td>20.450000</td>\n",
       "      <td>19.950000</td>\n",
       "      <td>19.800000</td>\n",
       "      <td>0.310000</td>\n",
       "      <td>533.500000</td>\n",
       "      <td>523.500000</td>\n",
       "      <td>1055.500000</td>\n",
       "      <td>0.040000</td>\n",
       "    </tr>\n",
       "    <tr>\n",
       "      <th>50%</th>\n",
       "      <td>20.700000</td>\n",
       "      <td>20.900000</td>\n",
       "      <td>21.800000</td>\n",
       "      <td>21.300000</td>\n",
       "      <td>21.400000</td>\n",
       "      <td>0.690000</td>\n",
       "      <td>559.000000</td>\n",
       "      <td>548.000000</td>\n",
       "      <td>1107.000000</td>\n",
       "      <td>0.380000</td>\n",
       "    </tr>\n",
       "    <tr>\n",
       "      <th>75%</th>\n",
       "      <td>23.300000</td>\n",
       "      <td>23.100000</td>\n",
       "      <td>24.150000</td>\n",
       "      <td>23.200000</td>\n",
       "      <td>23.600000</td>\n",
       "      <td>1.000000</td>\n",
       "      <td>613.000000</td>\n",
       "      <td>599.000000</td>\n",
       "      <td>1212.000000</td>\n",
       "      <td>0.660000</td>\n",
       "    </tr>\n",
       "    <tr>\n",
       "      <th>max</th>\n",
       "      <td>25.500000</td>\n",
       "      <td>25.300000</td>\n",
       "      <td>26.000000</td>\n",
       "      <td>24.900000</td>\n",
       "      <td>25.500000</td>\n",
       "      <td>1.000000</td>\n",
       "      <td>644.000000</td>\n",
       "      <td>651.000000</td>\n",
       "      <td>1295.000000</td>\n",
       "      <td>1.000000</td>\n",
       "    </tr>\n",
       "  </tbody>\n",
       "</table>\n",
       "</div>"
      ],
      "text/plain": [
       "       English_ACT   Math_ACT  Reading_ACT  Science_ACT  Composite_ACT  \\\n",
       "count    51.000000  51.000000    51.000000    51.000000      51.000000   \n",
       "mean     20.931373  21.182353    22.013725    21.450980      21.519608   \n",
       "std       2.353677   1.981989     2.067271     1.739353       2.020695   \n",
       "min      16.300000  18.000000    18.100000    18.200000      17.800000   \n",
       "25%      19.000000  19.400000    20.450000    19.950000      19.800000   \n",
       "50%      20.700000  20.900000    21.800000    21.300000      21.400000   \n",
       "75%      23.300000  23.100000    24.150000    23.200000      23.600000   \n",
       "max      25.500000  25.300000    26.000000    24.900000      25.500000   \n",
       "\n",
       "       Participation_float_ACT  Reading_SAT    Math_SAT    Total_SAT  \\\n",
       "count                51.000000    51.000000   51.000000    51.000000   \n",
       "mean                  0.652549   569.117647  556.882353  1126.098039   \n",
       "std                   0.321408    45.666901   47.121395    92.494812   \n",
       "min                   0.080000   482.000000  468.000000   950.000000   \n",
       "25%                   0.310000   533.500000  523.500000  1055.500000   \n",
       "50%                   0.690000   559.000000  548.000000  1107.000000   \n",
       "75%                   1.000000   613.000000  599.000000  1212.000000   \n",
       "max                   1.000000   644.000000  651.000000  1295.000000   \n",
       "\n",
       "       Participation_float_SAT  \n",
       "count                51.000000  \n",
       "mean                  0.398039  \n",
       "std                   0.352766  \n",
       "min                   0.020000  \n",
       "25%                   0.040000  \n",
       "50%                   0.380000  \n",
       "75%                   0.660000  \n",
       "max                   1.000000  "
      ]
     },
     "execution_count": 46,
     "metadata": {},
     "output_type": "execute_result"
    }
   ],
   "source": [
    "comb_df_col.describe()"
   ]
  },
  {
   "cell_type": "code",
   "execution_count": 47,
   "metadata": {},
   "outputs": [],
   "source": [
    "def norm_test(col):\n",
    "    nt = stats.normaltest(numeric_col[col])\n",
    "    return nt"
   ]
  },
  {
   "cell_type": "code",
   "execution_count": 48,
   "metadata": {
    "scrolled": false
   },
   "outputs": [
    {
     "name": "stdout",
     "output_type": "stream",
     "text": [
      "English_ACT has NormaltestResult(statistic=4.945616782086351, pvalue=0.08434764489205682)\n",
      "Math_ACT has NormaltestResult(statistic=6.547294554392776, pvalue=0.03786805958606832)\n",
      "Reading_ACT has NormaltestResult(statistic=6.248639549660324, pvalue=0.04396683079879635)\n",
      "Science_ACT has NormaltestResult(statistic=5.501326521192349, pvalue=0.0638854744336635)\n",
      "Composite_ACT has NormaltestResult(statistic=6.557389886662569, pvalue=0.03767739587231253)\n",
      "Participation_float_ACT has NormaltestResult(statistic=72.50510406893649, pvalue=1.8018419611696658e-16)\n",
      "Reading_SAT has NormaltestResult(statistic=13.81815328788405, pvalue=0.0009986795076584)\n",
      "Math_SAT has NormaltestResult(statistic=5.762201767738943, pvalue=0.056072998982864684)\n",
      "Total_SAT has NormaltestResult(statistic=9.607185954097002, pvalue=0.008200230814088539)\n",
      "Participation_float_SAT has NormaltestResult(statistic=24.84401282693096, pvalue=4.02894334576706e-06)\n"
     ]
    },
    {
     "data": {
      "text/plain": [
       "[None, None, None, None, None, None, None, None, None, None]"
      ]
     },
     "execution_count": 48,
     "metadata": {},
     "output_type": "execute_result"
    }
   ],
   "source": [
    "[print('{} has {}'.format(i, (norm_test(i)))) for i in numeric_col]"
   ]
  },
  {
   "cell_type": "code",
   "execution_count": 49,
   "metadata": {},
   "outputs": [],
   "source": [
    "def skew_test(col):\n",
    "    sk = stats.skew(numeric_col[col])\n",
    "    return sk"
   ]
  },
  {
   "cell_type": "code",
   "execution_count": 50,
   "metadata": {},
   "outputs": [
    {
     "data": {
      "text/plain": [
       "[0.34220217359811805,\n",
       " 0.3228174361152988,\n",
       " 0.2613779187300745,\n",
       " 0.21233390930923077,\n",
       " 0.3103255637098951,\n",
       " -0.19211796242279894,\n",
       " 0.2646065965076702,\n",
       " 0.35421485843432615,\n",
       " 0.30168334986069095,\n",
       " 0.33617543925343585]"
      ]
     },
     "execution_count": 50,
     "metadata": {},
     "output_type": "execute_result"
    }
   ],
   "source": [
    "[skew_test(i) for i in numeric_col]"
   ]
  },
  {
   "cell_type": "markdown",
   "metadata": {},
   "source": [
    "It seems like all the distributions have some skewness. "
   ]
  },
  {
   "cell_type": "markdown",
   "metadata": {},
   "source": [
    "##### 21. Plot some scatterplots examining relationships between all variables."
   ]
  },
  {
   "cell_type": "code",
   "execution_count": 51,
   "metadata": {
    "scrolled": true
   },
   "outputs": [],
   "source": [
    "add_act_totoal = pd.DataFrame()\n",
    "add_act_totoal = numeric_col"
   ]
  },
  {
   "cell_type": "code",
   "execution_count": 52,
   "metadata": {},
   "outputs": [
    {
     "data": {
      "image/png": "[encoded data removed]",
      "text/plain": [
       "<Figure size 1800x1800 with 110 Axes>"
      ]
     },
     "metadata": {},
     "output_type": "display_data"
    }
   ],
   "source": [
    "g = sns.pairplot(add_act_totoal) # plot scatter to see the correlations\n",
    "for i, j in zip(*np.triu_indices_from(g.axes, 1)):\n",
    "    g.axes[i, j].set_visible(False)"
   ]
  },
  {
   "cell_type": "markdown",
   "metadata": {},
   "source": [
    "\n"
   ]
  },
  {
   "cell_type": "code",
   "execution_count": 53,
   "metadata": {},
   "outputs": [],
   "source": [
    "corr_matrix = add_act_totoal.corr()"
   ]
  },
  {
   "cell_type": "code",
   "execution_count": 54,
   "metadata": {
    "scrolled": true
   },
   "outputs": [
    {
     "data": {
      "text/html": [
       "<div>\n",
       "<style scoped>\n",
       "    .dataframe tbody tr th:only-of-type {\n",
       "        vertical-align: middle;\n",
       "    }\n",
       "\n",
       "    .dataframe tbody tr th {\n",
       "        vertical-align: top;\n",
       "    }\n",
       "\n",
       "    .dataframe thead th {\n",
       "        text-align: right;\n",
       "    }\n",
       "</style>\n",
       "<table border=\"1\" class=\"dataframe\">\n",
       "  <thead>\n",
       "    <tr style=\"text-align: right;\">\n",
       "      <th></th>\n",
       "      <th>Math_SAT</th>\n",
       "      <th>Total_SAT</th>\n",
       "      <th>Participation_float_SAT</th>\n",
       "    </tr>\n",
       "  </thead>\n",
       "  <tbody>\n",
       "    <tr>\n",
       "      <th>English_ACT</th>\n",
       "      <td>-0.420673</td>\n",
       "      <td>-0.441947</td>\n",
       "      <td>0.686889</td>\n",
       "    </tr>\n",
       "    <tr>\n",
       "      <th>Math_ACT</th>\n",
       "      <td>-0.420456</td>\n",
       "      <td>-0.454116</td>\n",
       "      <td>0.710697</td>\n",
       "    </tr>\n",
       "    <tr>\n",
       "      <th>Reading_ACT</th>\n",
       "      <td>-0.442410</td>\n",
       "      <td>-0.466558</td>\n",
       "      <td>0.705352</td>\n",
       "    </tr>\n",
       "    <tr>\n",
       "      <th>Science_ACT</th>\n",
       "      <td>-0.365515</td>\n",
       "      <td>-0.394559</td>\n",
       "      <td>0.653670</td>\n",
       "    </tr>\n",
       "    <tr>\n",
       "      <th>Composite_ACT</th>\n",
       "      <td>-0.417817</td>\n",
       "      <td>-0.445020</td>\n",
       "      <td>0.694748</td>\n",
       "    </tr>\n",
       "    <tr>\n",
       "      <th>Participation_float_ACT</th>\n",
       "      <td>0.682572</td>\n",
       "      <td>0.701477</td>\n",
       "      <td>-0.841234</td>\n",
       "    </tr>\n",
       "  </tbody>\n",
       "</table>\n",
       "</div>"
      ],
      "text/plain": [
       "                         Math_SAT  Total_SAT  Participation_float_SAT\n",
       "English_ACT             -0.420673  -0.441947                 0.686889\n",
       "Math_ACT                -0.420456  -0.454116                 0.710697\n",
       "Reading_ACT             -0.442410  -0.466558                 0.705352\n",
       "Science_ACT             -0.365515  -0.394559                 0.653670\n",
       "Composite_ACT           -0.417817  -0.445020                 0.694748\n",
       "Participation_float_ACT  0.682572   0.701477                -0.841234"
      ]
     },
     "execution_count": 54,
     "metadata": {},
     "output_type": "execute_result"
    }
   ],
   "source": [
    "corr_matrix.iloc[:6,7:11]"
   ]
  },
  {
   "cell_type": "code",
   "execution_count": 55,
   "metadata": {},
   "outputs": [
    {
     "data": {
      "text/plain": [
       "<matplotlib.collections.PathCollection at 0x1a24664240>"
      ]
     },
     "execution_count": 55,
     "metadata": {},
     "output_type": "execute_result"
    },
    {
     "data": {
      "image/png": "[encoded data removed]",
      "text/plain": [
       "<Figure size 432x288 with 1 Axes>"
      ]
     },
     "metadata": {},
     "output_type": "display_data"
    }
   ],
   "source": [
    "plt.scatter(add_act_totoal['Composite_ACT'], add_act_totoal['Total_SAT'])"
   ]
  },
  {
   "cell_type": "markdown",
   "metadata": {},
   "source": [
    "##### 22. Are there any interesting relationships to note?"
   ]
  },
  {
   "cell_type": "markdown",
   "metadata": {},
   "source": [
    "1. if a state has high test score, the students at that state are likely to take another test. \n",
    "\n",
    "2. the relation between overall ACT score and SAT score is not significant\n",
    "\n",
    "3. Score dispersion between two tests; ACT score is more spread than SAT(C.V.)\n",
    "\n",
    "4. ACT, SAT participation is varied greatly.\n",
    "\n",
    "5. Midwest is dominate on SAT score but east coast has the highest ACT score\n"
   ]
  },
  {
   "cell_type": "markdown",
   "metadata": {},
   "source": [
    "##### 23. Create box plots for each variable. "
   ]
  },
  {
   "cell_type": "code",
   "execution_count": 56,
   "metadata": {},
   "outputs": [
    {
     "data": {
      "image/png": "[encoded data removed]",
      "text/plain": [
       "<Figure size 504x432 with 1 Axes>"
      ]
     },
     "metadata": {},
     "output_type": "display_data"
    }
   ],
   "source": [
    "sns.set()\n",
    "fig = plt.figure(figsize=(7,6))\n",
    "ax = fig.gca()\n",
    "ax = sns.boxplot(data = add_act_totoal[['English_ACT','Math_ACT','Reading_ACT', 'Science_ACT', 'Composite_ACT']], \n",
    "            fliersize=8, linewidth=1.5, notch=True, saturation=0.5,orient='h', ax=ax, palette='vlag');\n",
    "plt.xticks(rotation=30, fontsize = 12); #draw a verticle line to show the mean act score\n"
   ]
  },
  {
   "cell_type": "code",
   "execution_count": 57,
   "metadata": {},
   "outputs": [
    {
     "data": {
      "image/png": "[encoded data removed]",
      "text/plain": [
       "<Figure size 504x432 with 1 Axes>"
      ]
     },
     "metadata": {},
     "output_type": "display_data"
    }
   ],
   "source": [
    "fig = plt.figure(figsize=(7,6))\n",
    "ax = fig.gca()\n",
    "ax = sns.boxplot(data = add_act_totoal[['Math_SAT','Reading_SAT']], \n",
    "            fliersize=8, linewidth=1.5, notch=True, saturation=0.5,orient='h', ax=ax, palette='vlag');\n",
    "plt.xticks(rotation=30, fontsize = 12);"
   ]
  },
  {
   "cell_type": "code",
   "execution_count": 58,
   "metadata": {},
   "outputs": [
    {
     "data": {
      "image/png": "[encoded data removed]",
      "text/plain": [
       "<Figure size 360x144 with 1 Axes>"
      ]
     },
     "metadata": {},
     "output_type": "display_data"
    }
   ],
   "source": [
    "fig = plt.figure(figsize=(5,2))\n",
    "ax = fig.gca()\n",
    "ax = sns.boxplot(data = add_act_totoal[['Total_SAT']], \n",
    "            fliersize=8, linewidth=1.5, notch=True, saturation=0.5,orient='h', ax=ax, palette='vlag');\n",
    "plt.xticks(rotation=30, fontsize = 12);"
   ]
  },
  {
   "cell_type": "code",
   "execution_count": 59,
   "metadata": {
    "scrolled": true
   },
   "outputs": [
    {
     "data": {
      "image/png": "[encoded data removed]",
      "text/plain": [
       "<Figure size 432x288 with 1 Axes>"
      ]
     },
     "metadata": {},
     "output_type": "display_data"
    }
   ],
   "source": [
    "sns.swarmplot(data = add_act_totoal[['English_ACT','Math_ACT','Reading_ACT', 'Science_ACT', 'Composite_ACT']],\n",
    "             orient='h');"
   ]
  },
  {
   "cell_type": "code",
   "execution_count": 60,
   "metadata": {},
   "outputs": [
    {
     "data": {
      "image/png": "[encoded data removed]",
      "text/plain": [
       "<Figure size 432x288 with 1 Axes>"
      ]
     },
     "metadata": {},
     "output_type": "display_data"
    }
   ],
   "source": [
    "sns.swarmplot(data = add_act_totoal[['Math_SAT','Reading_SAT']],orient='h');"
   ]
  },
  {
   "cell_type": "markdown",
   "metadata": {},
   "source": [
    "##### BONUS: Using Tableau, create a heat map for each variable using a map of the US. "
   ]
  },
  {
   "cell_type": "markdown",
   "metadata": {},
   "source": [
    "Heat map link:\n",
    "https://public.tableau.com/profile/jonathan.zhao#!/vizhome/SATandACTscore2017/Sheet1?publish=yes"
   ]
  },
  {
   "cell_type": "code",
   "execution_count": 61,
   "metadata": {},
   "outputs": [
    {
     "data": {
      "text/html": [
       "<div class='tableauPlaceholder' id='viz1533950263632' style='position: relative'><noscript><a href='#'><img alt='&lt;SAT&#47;ACT Total Score&gt; ' src='https:&#47;&#47;public.tableau.com&#47;static&#47;images&#47;SA&#47;SATandACTscore2017&#47;Score&#47;1_rss.png' style='border: none' /></a></noscript><object class='tableauViz'  style='display:none;'><param name='host_url' value='https%3A%2F%2Fpublic.tableau.com%2F' /> <param name='embed_code_version' value='3' /> <param name='site_root' value='' /><param name='name' value='SATandACTscore2017&#47;Score' /><param name='tabs' value='no' /><param name='toolbar' value='yes' /><param name='static_image' value='https:&#47;&#47;public.tableau.com&#47;static&#47;images&#47;SA&#47;SATandACTscore2017&#47;Score&#47;1.png' /> <param name='animate_transition' value='yes' /><param name='display_static_image' value='yes' /><param name='display_spinner' value='yes' /><param name='display_overlay' value='yes' /><param name='display_count' value='yes' /><param name='filter' value='publish=yes' /></object></div>                <script type='text/javascript'>                    var divElement = document.getElementById('viz1533950263632');                    var vizElement = divElement.getElementsByTagName('object')[0];                    vizElement.style.width='100%';vizElement.style.height=(divElement.offsetWidth*0.75)+'px';                    var scriptElement = document.createElement('script');                    scriptElement.src = 'https://public.tableau.com/javascripts/api/viz_v1.js';                    vizElement.parentNode.insertBefore(scriptElement, vizElement);                </script>"
      ],
      "text/plain": [
       "<IPython.core.display.HTML object>"
      ]
     },
     "metadata": {},
     "output_type": "display_data"
    }
   ],
   "source": [
    "%%HTML\n",
    "<div class='tableauPlaceholder' id='viz1533950263632' style='position: relative'><noscript><a href='#'><img alt='&lt;SAT&#47;ACT Total Score&gt; ' src='https:&#47;&#47;public.tableau.com&#47;static&#47;images&#47;SA&#47;SATandACTscore2017&#47;Score&#47;1_rss.png' style='border: none' /></a></noscript><object class='tableauViz'  style='display:none;'><param name='host_url' value='https%3A%2F%2Fpublic.tableau.com%2F' /> <param name='embed_code_version' value='3' /> <param name='site_root' value='' /><param name='name' value='SATandACTscore2017&#47;Score' /><param name='tabs' value='no' /><param name='toolbar' value='yes' /><param name='static_image' value='https:&#47;&#47;public.tableau.com&#47;static&#47;images&#47;SA&#47;SATandACTscore2017&#47;Score&#47;1.png' /> <param name='animate_transition' value='yes' /><param name='display_static_image' value='yes' /><param name='display_spinner' value='yes' /><param name='display_overlay' value='yes' /><param name='display_count' value='yes' /><param name='filter' value='publish=yes' /></object></div>                <script type='text/javascript'>                    var divElement = document.getElementById('viz1533950263632');                    var vizElement = divElement.getElementsByTagName('object')[0];                    vizElement.style.width='100%';vizElement.style.height=(divElement.offsetWidth*0.75)+'px';                    var scriptElement = document.createElement('script');                    scriptElement.src = 'https://public.tableau.com/javascripts/api/viz_v1.js';                    vizElement.parentNode.insertBefore(scriptElement, vizElement);                </script>"
   ]
  },
  {
   "cell_type": "markdown",
   "metadata": {},
   "source": [
    "<div class='tableauPlaceholder' id='viz1533950263632' style='position: relative'><noscript><a href='#'><img alt='&lt;SAT&#47;ACT Total Score&gt; ' src='https:&#47;&#47;public.tableau.com&#47;static&#47;images&#47;SA&#47;SATandACTscore2017&#47;Score&#47;1_rss.png' style='border: none' /></a></noscript><object class='tableauViz'  style='display:none;'><param name='host_url' value='https%3A%2F%2Fpublic.tableau.com%2F' /> <param name='embed_code_version' value='3' /> <param name='site_root' value='' /><param name='name' value='SATandACTscore2017&#47;Score' /><param name='tabs' value='no' /><param name='toolbar' value='yes' /><param name='static_image' value='https:&#47;&#47;public.tableau.com&#47;static&#47;images&#47;SA&#47;SATandACTscore2017&#47;Score&#47;1.png' /> <param name='animate_transition' value='yes' /><param name='display_static_image' value='yes' /><param name='display_spinner' value='yes' /><param name='display_overlay' value='yes' /><param name='display_count' value='yes' /><param name='filter' value='publish=yes' /></object></div>                <script type='text/javascript'>                    var divElement = document.getElementById('viz1533950263632');                    var vizElement = divElement.getElementsByTagName('object')[0];                    vizElement.style.width='100%';vizElement.style.height=(divElement.offsetWidth*0.75)+'px';                    var scriptElement = document.createElement('script');                    scriptElement.src = 'https://public.tableau.com/javascripts/api/viz_v1.js';                    vizElement.parentNode.insertBefore(scriptElement, vizElement);                </script>"
   ]
  },
  {
   "cell_type": "markdown",
   "metadata": {},
   "source": [
    "## Step 4: Descriptive and Inferential Statistics"
   ]
  },
  {
   "cell_type": "markdown",
   "metadata": {},
   "source": [
    "##### 24. Summarize each distribution. As data scientists, be sure to back up these summaries with statistics. (Hint: What are the three things we care about when describing distributions?)"
   ]
  },
  {
   "cell_type": "code",
   "execution_count": 62,
   "metadata": {
    "scrolled": true
   },
   "outputs": [
    {
     "data": {
      "text/html": [
       "<div>\n",
       "<style scoped>\n",
       "    .dataframe tbody tr th:only-of-type {\n",
       "        vertical-align: middle;\n",
       "    }\n",
       "\n",
       "    .dataframe tbody tr th {\n",
       "        vertical-align: top;\n",
       "    }\n",
       "\n",
       "    .dataframe thead th {\n",
       "        text-align: right;\n",
       "    }\n",
       "</style>\n",
       "<table border=\"1\" class=\"dataframe\">\n",
       "  <thead>\n",
       "    <tr style=\"text-align: right;\">\n",
       "      <th></th>\n",
       "      <th>English_ACT</th>\n",
       "      <th>Math_ACT</th>\n",
       "      <th>Reading_ACT</th>\n",
       "      <th>Science_ACT</th>\n",
       "      <th>Composite_ACT</th>\n",
       "      <th>Participation_float_ACT</th>\n",
       "      <th>Reading_SAT</th>\n",
       "      <th>Math_SAT</th>\n",
       "      <th>Total_SAT</th>\n",
       "      <th>Participation_float_SAT</th>\n",
       "    </tr>\n",
       "  </thead>\n",
       "  <tbody>\n",
       "    <tr>\n",
       "      <th>count</th>\n",
       "      <td>51.000000</td>\n",
       "      <td>51.000000</td>\n",
       "      <td>51.000000</td>\n",
       "      <td>51.000000</td>\n",
       "      <td>51.000000</td>\n",
       "      <td>51.000000</td>\n",
       "      <td>51.000000</td>\n",
       "      <td>51.000000</td>\n",
       "      <td>51.000000</td>\n",
       "      <td>51.000000</td>\n",
       "    </tr>\n",
       "    <tr>\n",
       "      <th>mean</th>\n",
       "      <td>20.931373</td>\n",
       "      <td>21.182353</td>\n",
       "      <td>22.013725</td>\n",
       "      <td>21.450980</td>\n",
       "      <td>21.519608</td>\n",
       "      <td>0.652549</td>\n",
       "      <td>569.117647</td>\n",
       "      <td>556.882353</td>\n",
       "      <td>1126.098039</td>\n",
       "      <td>0.398039</td>\n",
       "    </tr>\n",
       "    <tr>\n",
       "      <th>std</th>\n",
       "      <td>2.353677</td>\n",
       "      <td>1.981989</td>\n",
       "      <td>2.067271</td>\n",
       "      <td>1.739353</td>\n",
       "      <td>2.020695</td>\n",
       "      <td>0.321408</td>\n",
       "      <td>45.666901</td>\n",
       "      <td>47.121395</td>\n",
       "      <td>92.494812</td>\n",
       "      <td>0.352766</td>\n",
       "    </tr>\n",
       "    <tr>\n",
       "      <th>min</th>\n",
       "      <td>16.300000</td>\n",
       "      <td>18.000000</td>\n",
       "      <td>18.100000</td>\n",
       "      <td>18.200000</td>\n",
       "      <td>17.800000</td>\n",
       "      <td>0.080000</td>\n",
       "      <td>482.000000</td>\n",
       "      <td>468.000000</td>\n",
       "      <td>950.000000</td>\n",
       "      <td>0.020000</td>\n",
       "    </tr>\n",
       "    <tr>\n",
       "      <th>25%</th>\n",
       "      <td>19.000000</td>\n",
       "      <td>19.400000</td>\n",
       "      <td>20.450000</td>\n",
       "      <td>19.950000</td>\n",
       "      <td>19.800000</td>\n",
       "      <td>0.310000</td>\n",
       "      <td>533.500000</td>\n",
       "      <td>523.500000</td>\n",
       "      <td>1055.500000</td>\n",
       "      <td>0.040000</td>\n",
       "    </tr>\n",
       "    <tr>\n",
       "      <th>50%</th>\n",
       "      <td>20.700000</td>\n",
       "      <td>20.900000</td>\n",
       "      <td>21.800000</td>\n",
       "      <td>21.300000</td>\n",
       "      <td>21.400000</td>\n",
       "      <td>0.690000</td>\n",
       "      <td>559.000000</td>\n",
       "      <td>548.000000</td>\n",
       "      <td>1107.000000</td>\n",
       "      <td>0.380000</td>\n",
       "    </tr>\n",
       "    <tr>\n",
       "      <th>75%</th>\n",
       "      <td>23.300000</td>\n",
       "      <td>23.100000</td>\n",
       "      <td>24.150000</td>\n",
       "      <td>23.200000</td>\n",
       "      <td>23.600000</td>\n",
       "      <td>1.000000</td>\n",
       "      <td>613.000000</td>\n",
       "      <td>599.000000</td>\n",
       "      <td>1212.000000</td>\n",
       "      <td>0.660000</td>\n",
       "    </tr>\n",
       "    <tr>\n",
       "      <th>max</th>\n",
       "      <td>25.500000</td>\n",
       "      <td>25.300000</td>\n",
       "      <td>26.000000</td>\n",
       "      <td>24.900000</td>\n",
       "      <td>25.500000</td>\n",
       "      <td>1.000000</td>\n",
       "      <td>644.000000</td>\n",
       "      <td>651.000000</td>\n",
       "      <td>1295.000000</td>\n",
       "      <td>1.000000</td>\n",
       "    </tr>\n",
       "  </tbody>\n",
       "</table>\n",
       "</div>"
      ],
      "text/plain": [
       "       English_ACT   Math_ACT  Reading_ACT  Science_ACT  Composite_ACT  \\\n",
       "count    51.000000  51.000000    51.000000    51.000000      51.000000   \n",
       "mean     20.931373  21.182353    22.013725    21.450980      21.519608   \n",
       "std       2.353677   1.981989     2.067271     1.739353       2.020695   \n",
       "min      16.300000  18.000000    18.100000    18.200000      17.800000   \n",
       "25%      19.000000  19.400000    20.450000    19.950000      19.800000   \n",
       "50%      20.700000  20.900000    21.800000    21.300000      21.400000   \n",
       "75%      23.300000  23.100000    24.150000    23.200000      23.600000   \n",
       "max      25.500000  25.300000    26.000000    24.900000      25.500000   \n",
       "\n",
       "       Participation_float_ACT  Reading_SAT    Math_SAT    Total_SAT  \\\n",
       "count                51.000000    51.000000   51.000000    51.000000   \n",
       "mean                  0.652549   569.117647  556.882353  1126.098039   \n",
       "std                   0.321408    45.666901   47.121395    92.494812   \n",
       "min                   0.080000   482.000000  468.000000   950.000000   \n",
       "25%                   0.310000   533.500000  523.500000  1055.500000   \n",
       "50%                   0.690000   559.000000  548.000000  1107.000000   \n",
       "75%                   1.000000   613.000000  599.000000  1212.000000   \n",
       "max                   1.000000   644.000000  651.000000  1295.000000   \n",
       "\n",
       "       Participation_float_SAT  \n",
       "count                51.000000  \n",
       "mean                  0.398039  \n",
       "std                   0.352766  \n",
       "min                   0.020000  \n",
       "25%                   0.040000  \n",
       "50%                   0.380000  \n",
       "75%                   0.660000  \n",
       "max                   1.000000  "
      ]
     },
     "execution_count": 62,
     "metadata": {},
     "output_type": "execute_result"
    }
   ],
   "source": [
    "add_act_totoal.describe()"
   ]
  },
  {
   "cell_type": "markdown",
   "metadata": {},
   "source": [
    "# ACT:\n",
    "Among five subjects in ACT, English score is the most dispersed. It has the highest standard deviation within the test subjects of ACT. The IQR of ACT English also shows it has the largest dispersion. English also has the lowest minimum and mean value among the five ACT subjects. Its max value ranked second. The median English score is at 20.7 which is closet score toward to the median within these subjects, it is highly likely normally distrbuted\n",
    "\n",
    "Math has relatively smaller stadard deviation, it shows the math score is less dispersed. It has the same IQR as Reading score (3.70) but Reading is more spread. \n",
    "\n",
    "The min score of reading is close to the min score of Math but it has the highest max value among the subejects, that improves mean score of reading that also increase its standard deviation. \n",
    "\n",
    "Science score is very closeof total act score, it has the lowest dispersion within these five subjects. \n",
    "\n",
    "Compare the participation of ACT and SAT, ACT has the highest participation across the country.\n",
    "\n",
    "# SAT\n",
    "Reading and math score of SAT has pretty much same dispersion. Math has slighly larger dispersion. \n",
    "\n",
    "The range between meidan of total SAT score and max is more spread out.\n",
    "\n"
   ]
  },
  {
   "cell_type": "markdown",
   "metadata": {},
   "source": [
    "##### 25. Summarize each relationship. Be sure to back up these summaries with statistics."
   ]
  },
  {
   "cell_type": "code",
   "execution_count": 64,
   "metadata": {},
   "outputs": [
    {
     "data": {
      "text/html": [
       "<div>\n",
       "<style scoped>\n",
       "    .dataframe tbody tr th:only-of-type {\n",
       "        vertical-align: middle;\n",
       "    }\n",
       "\n",
       "    .dataframe tbody tr th {\n",
       "        vertical-align: top;\n",
       "    }\n",
       "\n",
       "    .dataframe thead th {\n",
       "        text-align: right;\n",
       "    }\n",
       "</style>\n",
       "<table border=\"1\" class=\"dataframe\">\n",
       "  <thead>\n",
       "    <tr style=\"text-align: right;\">\n",
       "      <th></th>\n",
       "      <th>English_ACT</th>\n",
       "      <th>Math_ACT</th>\n",
       "      <th>Reading_ACT</th>\n",
       "      <th>Science_ACT</th>\n",
       "      <th>Composite_ACT</th>\n",
       "      <th>Participation_float_ACT</th>\n",
       "      <th>Reading_SAT</th>\n",
       "      <th>Math_SAT</th>\n",
       "      <th>Total_SAT</th>\n",
       "      <th>Participation_float_SAT</th>\n",
       "    </tr>\n",
       "  </thead>\n",
       "  <tbody>\n",
       "    <tr>\n",
       "      <th>English_ACT</th>\n",
       "      <td>1.000000</td>\n",
       "      <td>0.967803</td>\n",
       "      <td>0.985999</td>\n",
       "      <td>0.980042</td>\n",
       "      <td>0.990856</td>\n",
       "      <td>-0.843501</td>\n",
       "      <td>-0.461345</td>\n",
       "      <td>-0.420673</td>\n",
       "      <td>-0.441947</td>\n",
       "      <td>0.686889</td>\n",
       "    </tr>\n",
       "    <tr>\n",
       "      <th>Math_ACT</th>\n",
       "      <td>0.967803</td>\n",
       "      <td>1.000000</td>\n",
       "      <td>0.979630</td>\n",
       "      <td>0.986929</td>\n",
       "      <td>0.990451</td>\n",
       "      <td>-0.861114</td>\n",
       "      <td>-0.486126</td>\n",
       "      <td>-0.420456</td>\n",
       "      <td>-0.454116</td>\n",
       "      <td>0.710697</td>\n",
       "    </tr>\n",
       "    <tr>\n",
       "      <th>Reading_ACT</th>\n",
       "      <td>0.985999</td>\n",
       "      <td>0.979630</td>\n",
       "      <td>1.000000</td>\n",
       "      <td>0.988034</td>\n",
       "      <td>0.995069</td>\n",
       "      <td>-0.866620</td>\n",
       "      <td>-0.488441</td>\n",
       "      <td>-0.442410</td>\n",
       "      <td>-0.466558</td>\n",
       "      <td>0.705352</td>\n",
       "    </tr>\n",
       "    <tr>\n",
       "      <th>Science_ACT</th>\n",
       "      <td>0.980042</td>\n",
       "      <td>0.986929</td>\n",
       "      <td>0.988034</td>\n",
       "      <td>1.000000</td>\n",
       "      <td>0.995129</td>\n",
       "      <td>-0.836595</td>\n",
       "      <td>-0.422130</td>\n",
       "      <td>-0.365515</td>\n",
       "      <td>-0.394559</td>\n",
       "      <td>0.653670</td>\n",
       "    </tr>\n",
       "    <tr>\n",
       "      <th>Composite_ACT</th>\n",
       "      <td>0.990856</td>\n",
       "      <td>0.990451</td>\n",
       "      <td>0.995069</td>\n",
       "      <td>0.995129</td>\n",
       "      <td>1.000000</td>\n",
       "      <td>-0.858134</td>\n",
       "      <td>-0.470382</td>\n",
       "      <td>-0.417817</td>\n",
       "      <td>-0.445020</td>\n",
       "      <td>0.694748</td>\n",
       "    </tr>\n",
       "    <tr>\n",
       "      <th>Participation_float_ACT</th>\n",
       "      <td>-0.843501</td>\n",
       "      <td>-0.861114</td>\n",
       "      <td>-0.866620</td>\n",
       "      <td>-0.836595</td>\n",
       "      <td>-0.858134</td>\n",
       "      <td>1.000000</td>\n",
       "      <td>0.716153</td>\n",
       "      <td>0.682572</td>\n",
       "      <td>0.701477</td>\n",
       "      <td>-0.841234</td>\n",
       "    </tr>\n",
       "    <tr>\n",
       "      <th>Reading_SAT</th>\n",
       "      <td>-0.461345</td>\n",
       "      <td>-0.486126</td>\n",
       "      <td>-0.488441</td>\n",
       "      <td>-0.422130</td>\n",
       "      <td>-0.470382</td>\n",
       "      <td>0.716153</td>\n",
       "      <td>1.000000</td>\n",
       "      <td>0.987056</td>\n",
       "      <td>0.996661</td>\n",
       "      <td>-0.874326</td>\n",
       "    </tr>\n",
       "    <tr>\n",
       "      <th>Math_SAT</th>\n",
       "      <td>-0.420673</td>\n",
       "      <td>-0.420456</td>\n",
       "      <td>-0.442410</td>\n",
       "      <td>-0.365515</td>\n",
       "      <td>-0.417817</td>\n",
       "      <td>0.682572</td>\n",
       "      <td>0.987056</td>\n",
       "      <td>1.000000</td>\n",
       "      <td>0.996822</td>\n",
       "      <td>-0.855091</td>\n",
       "    </tr>\n",
       "    <tr>\n",
       "      <th>Total_SAT</th>\n",
       "      <td>-0.441947</td>\n",
       "      <td>-0.454116</td>\n",
       "      <td>-0.466558</td>\n",
       "      <td>-0.394559</td>\n",
       "      <td>-0.445020</td>\n",
       "      <td>0.701477</td>\n",
       "      <td>0.996661</td>\n",
       "      <td>0.996822</td>\n",
       "      <td>1.000000</td>\n",
       "      <td>-0.867540</td>\n",
       "    </tr>\n",
       "    <tr>\n",
       "      <th>Participation_float_SAT</th>\n",
       "      <td>0.686889</td>\n",
       "      <td>0.710697</td>\n",
       "      <td>0.705352</td>\n",
       "      <td>0.653670</td>\n",
       "      <td>0.694748</td>\n",
       "      <td>-0.841234</td>\n",
       "      <td>-0.874326</td>\n",
       "      <td>-0.855091</td>\n",
       "      <td>-0.867540</td>\n",
       "      <td>1.000000</td>\n",
       "    </tr>\n",
       "  </tbody>\n",
       "</table>\n",
       "</div>"
      ],
      "text/plain": [
       "                         English_ACT  Math_ACT  Reading_ACT  Science_ACT  \\\n",
       "English_ACT                 1.000000  0.967803     0.985999     0.980042   \n",
       "Math_ACT                    0.967803  1.000000     0.979630     0.986929   \n",
       "Reading_ACT                 0.985999  0.979630     1.000000     0.988034   \n",
       "Science_ACT                 0.980042  0.986929     0.988034     1.000000   \n",
       "Composite_ACT               0.990856  0.990451     0.995069     0.995129   \n",
       "Participation_float_ACT    -0.843501 -0.861114    -0.866620    -0.836595   \n",
       "Reading_SAT                -0.461345 -0.486126    -0.488441    -0.422130   \n",
       "Math_SAT                   -0.420673 -0.420456    -0.442410    -0.365515   \n",
       "Total_SAT                  -0.441947 -0.454116    -0.466558    -0.394559   \n",
       "Participation_float_SAT     0.686889  0.710697     0.705352     0.653670   \n",
       "\n",
       "                         Composite_ACT  Participation_float_ACT  Reading_SAT  \\\n",
       "English_ACT                   0.990856                -0.843501    -0.461345   \n",
       "Math_ACT                      0.990451                -0.861114    -0.486126   \n",
       "Reading_ACT                   0.995069                -0.866620    -0.488441   \n",
       "Science_ACT                   0.995129                -0.836595    -0.422130   \n",
       "Composite_ACT                 1.000000                -0.858134    -0.470382   \n",
       "Participation_float_ACT      -0.858134                 1.000000     0.716153   \n",
       "Reading_SAT                  -0.470382                 0.716153     1.000000   \n",
       "Math_SAT                     -0.417817                 0.682572     0.987056   \n",
       "Total_SAT                    -0.445020                 0.701477     0.996661   \n",
       "Participation_float_SAT       0.694748                -0.841234    -0.874326   \n",
       "\n",
       "                         Math_SAT  Total_SAT  Participation_float_SAT  \n",
       "English_ACT             -0.420673  -0.441947                 0.686889  \n",
       "Math_ACT                -0.420456  -0.454116                 0.710697  \n",
       "Reading_ACT             -0.442410  -0.466558                 0.705352  \n",
       "Science_ACT             -0.365515  -0.394559                 0.653670  \n",
       "Composite_ACT           -0.417817  -0.445020                 0.694748  \n",
       "Participation_float_ACT  0.682572   0.701477                -0.841234  \n",
       "Reading_SAT              0.987056   0.996661                -0.874326  \n",
       "Math_SAT                 1.000000   0.996822                -0.855091  \n",
       "Total_SAT                0.996822   1.000000                -0.867540  \n",
       "Participation_float_SAT -0.855091  -0.867540                 1.000000  "
      ]
     },
     "execution_count": 64,
     "metadata": {},
     "output_type": "execute_result"
    }
   ],
   "source": [
    "corr_matrix.iloc[:,:]"
   ]
  },
  {
   "cell_type": "code",
   "execution_count": 65,
   "metadata": {
    "scrolled": true
   },
   "outputs": [
    {
     "data": {
      "text/plain": [
       "<matplotlib.collections.PathCollection at 0x1a26004320>"
      ]
     },
     "execution_count": 65,
     "metadata": {},
     "output_type": "execute_result"
    },
    {
     "data": {
      "image/png": "[encoded data removed]",
      "text/plain": [
       "<Figure size 432x288 with 1 Axes>"
      ]
     },
     "metadata": {},
     "output_type": "display_data"
    }
   ],
   "source": [
    "plt.scatter(add_act_totoal['Composite_ACT'],add_act_totoal['Participation_float_ACT'])"
   ]
  },
  {
   "cell_type": "markdown",
   "metadata": {},
   "source": [
    "**ACT and SAT Participation**\n",
    " - If one state has more students taking SAT test then there is a higher chance less studetns in that state taking ACT test\n",
    "\n",
    "**Scores and Participation for Another Test**\n",
    "- if one state has higher ACT or SAT score there is a higher chance that state has higher participation rate of another test. \n",
    "\n",
    "**Score and Participation**\n",
    "\n",
    "- if a state has higher ACT score, it is highly likely the state has lower participation rate for that test."
   ]
  },
  {
   "cell_type": "markdown",
   "metadata": {},
   "source": [
    "##### 26. Execute a hypothesis test comparing the SAT and ACT participation rates. Use $\\alpha = 0.05$. Be sure to interpret your results."
   ]
  },
  {
   "cell_type": "markdown",
   "metadata": {},
   "source": [
    "**H0:**  SAT participation rate and ACT participation rate is not different  \n",
    "\n",
    "**Ha:**  SAT participation rate and ACT participation rate is different"
   ]
  },
  {
   "cell_type": "code",
   "execution_count": 66,
   "metadata": {},
   "outputs": [],
   "source": [
    "import scipy.stats as stats\n",
    "import numpy as np"
   ]
  },
  {
   "cell_type": "code",
   "execution_count": 67,
   "metadata": {},
   "outputs": [
    {
     "data": {
      "text/plain": [
       "(3.8085778908170544, 0.00024134203698662353)"
      ]
     },
     "execution_count": 67,
     "metadata": {},
     "output_type": "execute_result"
    }
   ],
   "source": [
    "t,p = stats.ttest_ind(add_act_totoal['Participation_float_ACT'], add_act_totoal['Participation_float_SAT'])\n",
    "t,p"
   ]
  },
  {
   "cell_type": "markdown",
   "metadata": {},
   "source": [
    "**Conclustion**: since p-value is less than 0.05, we reject null hypothesis. "
   ]
  },
  {
   "cell_type": "markdown",
   "metadata": {},
   "source": [
    "##### 27. Generate and interpret 95% confidence intervals for SAT and ACT participation rates."
   ]
  },
  {
   "cell_type": "code",
   "execution_count": 68,
   "metadata": {},
   "outputs": [
    {
     "data": {
      "text/plain": [
       "(0.3012207711116876, 0.4948576602608615)"
      ]
     },
     "execution_count": 68,
     "metadata": {},
     "output_type": "execute_result"
    }
   ],
   "source": [
    "z = 1.96\n",
    "n=len(add_act_totoal)\n",
    "standard_error_SAT = np.std(add_act_totoal['Participation_float_SAT'], ddof=1)/np.sqrt(n)\n",
    "ci_lower_SAT = np.mean(add_act_totoal['Participation_float_SAT']) - z *standard_error_SAT\n",
    "ci_upper_SAT = np.mean(add_act_totoal['Participation_float_SAT']) + z *standard_error_SAT\n",
    "ci_lower_SAT, ci_upper_SAT"
   ]
  },
  {
   "cell_type": "code",
   "execution_count": 69,
   "metadata": {},
   "outputs": [
    {
     "data": {
      "text/plain": [
       "(0.5643369049287186, 0.7407611342869675)"
      ]
     },
     "execution_count": 69,
     "metadata": {},
     "output_type": "execute_result"
    }
   ],
   "source": [
    "z = 1.96\n",
    "n=len(add_act_totoal)\n",
    "standard_error_ACT = np.std(add_act_totoal['Participation_float_ACT'], ddof=1)/np.sqrt(n)\n",
    "ci_lower_ACT = np.mean(add_act_totoal['Participation_float_ACT']) - z *standard_error_ACT\n",
    "ci_upper_ACT = np.mean(add_act_totoal['Participation_float_ACT']) + z *standard_error_ACT\n",
    "ci_lower_ACT, ci_upper_ACT"
   ]
  },
  {
   "cell_type": "code",
   "execution_count": 70,
   "metadata": {},
   "outputs": [
    {
     "name": "stdout",
     "output_type": "stream",
     "text": [
      "(0.5643385258470262, 0.74075951336866)\n",
      "(0.30122255017332666, 0.4948558811992224)\n"
     ]
    }
   ],
   "source": [
    "ci_ACT = stats.norm.interval(0.95, np.mean(add_act_totoal['Participation_float_ACT']), standard_error_ACT)\n",
    "ci_SAT = stats.norm.interval(0.95, np.mean(add_act_totoal['Participation_float_SAT']), standard_error_SAT)\n",
    "print(ci_ACT)\n",
    "print(ci_SAT)"
   ]
  },
  {
   "cell_type": "code",
   "execution_count": 77,
   "metadata": {},
   "outputs": [
    {
     "data": {
      "text/plain": [
       "Text(0.5,1,'ACT Participation% 95% CI')"
      ]
     },
     "execution_count": 77,
     "metadata": {},
     "output_type": "execute_result"
    },
    {
     "data": {
      "image/png": "[encoded data removed]",
      "text/plain": [
       "<Figure size 576x360 with 1 Axes>"
      ]
     },
     "metadata": {},
     "output_type": "display_data"
    }
   ],
   "source": [
    "fig = plt.figure(figsize=(8,5))\n",
    "ax = fig.gca()\n",
    "\n",
    "zx = np.linspace(np.mean(add_act_totoal['Participation_float_ACT'])-3.5*standard_error_ACT, np.mean(add_act_totoal['Participation_float_ACT'])+3.5*standard_error_ACT, 250)\n",
    "\n",
    "Z = stats.norm(np.mean(add_act_totoal['Participation_float_ACT']), standard_error_ACT)\n",
    "zy = Z.pdf(zx)\n",
    "\n",
    "ax.axvline(np.mean(add_act_totoal['Participation_float_ACT'])-1.96*standard_error_ACT, ls='dashed', lw=3, color='#666666', alpha=0.7)\n",
    "ax.axvline(np.mean(add_act_totoal['Participation_float_ACT'])+1.96*standard_error_ACT, ls='dashed', lw=3, color='#666666', alpha=0.7, label='z=1.96, 95%')\n",
    "\n",
    "ax.plot(zx, zy, linewidth=3, color='darkred')\n",
    "ax.legend(loc='upper left')\n",
    "plt.title('ACT Participation% 95% CI', size=20)"
   ]
  },
  {
   "cell_type": "code",
   "execution_count": 78,
   "metadata": {},
   "outputs": [
    {
     "data": {
      "text/plain": [
       "Text(0.5,1,'SAT Participation% 95% CI')"
      ]
     },
     "execution_count": 78,
     "metadata": {},
     "output_type": "execute_result"
    },
    {
     "data": {
      "image/png": "[encoded data removed]",
      "text/plain": [
       "<Figure size 576x360 with 1 Axes>"
      ]
     },
     "metadata": {},
     "output_type": "display_data"
    }
   ],
   "source": [
    "fig = plt.figure(figsize=(8,5))\n",
    "ax = fig.gca()\n",
    "\n",
    "zx = np.linspace(np.mean(add_act_totoal['Participation_float_SAT'])-3.5*standard_error_ACT, np.mean(add_act_totoal['Participation_float_SAT'])+3.5*standard_error_ACT, 250)\n",
    "\n",
    "Z = stats.norm(np.mean(add_act_totoal['Participation_float_SAT']), standard_error_ACT)\n",
    "zy = Z.pdf(zx)\n",
    "\n",
    "ax.axvline(np.mean(add_act_totoal['Participation_float_SAT'])-1.96*standard_error_ACT, ls='dashed', lw=3, color='#666666', alpha=0.7)\n",
    "ax.axvline(np.mean(add_act_totoal['Participation_float_SAT'])+1.96*standard_error_ACT, ls='dashed', lw=3, color='#666666', alpha=0.7, label='z=1.96, 95%')\n",
    "\n",
    "ax.plot(zx, zy, linewidth=3, color='darkred')\n",
    "ax.legend(loc='upper left')\n",
    "plt.title('SAT Participation% 95% CI', size=20)"
   ]
  },
  {
   "cell_type": "markdown",
   "metadata": {},
   "source": [
    "##### 28. Given your answer to 26, was your answer to 27 surprising? Why?"
   ]
  },
  {
   "cell_type": "markdown",
   "metadata": {},
   "source": [
    "No, the confidence intervals we calculated from SAT and ACT is not overlaped and p-value we calculated from 26 further proved that the paricipation of two tests are different."
   ]
  },
  {
   "cell_type": "markdown",
   "metadata": {},
   "source": [
    "##### 29. Is it appropriate to generate correlation between SAT and ACT math scores? Why?"
   ]
  },
  {
   "cell_type": "code",
   "execution_count": 73,
   "metadata": {},
   "outputs": [
    {
     "data": {
      "text/html": [
       "<div>\n",
       "<style scoped>\n",
       "    .dataframe tbody tr th:only-of-type {\n",
       "        vertical-align: middle;\n",
       "    }\n",
       "\n",
       "    .dataframe tbody tr th {\n",
       "        vertical-align: top;\n",
       "    }\n",
       "\n",
       "    .dataframe thead th {\n",
       "        text-align: right;\n",
       "    }\n",
       "</style>\n",
       "<table border=\"1\" class=\"dataframe\">\n",
       "  <thead>\n",
       "    <tr style=\"text-align: right;\">\n",
       "      <th></th>\n",
       "      <th>Math_SAT</th>\n",
       "    </tr>\n",
       "  </thead>\n",
       "  <tbody>\n",
       "    <tr>\n",
       "      <th>Math_ACT</th>\n",
       "      <td>-0.420456</td>\n",
       "    </tr>\n",
       "  </tbody>\n",
       "</table>\n",
       "</div>"
      ],
      "text/plain": [
       "          Math_SAT\n",
       "Math_ACT -0.420456"
      ]
     },
     "execution_count": 73,
     "metadata": {},
     "output_type": "execute_result"
    }
   ],
   "source": [
    "corr_matrix.loc[['Math_ACT'], ['Math_SAT']]"
   ]
  },
  {
   "cell_type": "markdown",
   "metadata": {},
   "source": [
    "Yes. even though these two tests have different scale but the correlation coefficient is standardized."
   ]
  },
  {
   "cell_type": "code",
   "execution_count": 74,
   "metadata": {},
   "outputs": [
    {
     "data": {
      "text/plain": [
       "<matplotlib.collections.PathCollection at 0x1a26246f98>"
      ]
     },
     "execution_count": 74,
     "metadata": {},
     "output_type": "execute_result"
    },
    {
     "data": {
      "image/png": "[encoded data removed]",
      "text/plain": [
       "<Figure size 432x288 with 1 Axes>"
      ]
     },
     "metadata": {},
     "output_type": "display_data"
    }
   ],
   "source": [
    "plt.scatter(add_act_totoal['Math_ACT'],add_act_totoal['Math_SAT'])"
   ]
  },
  {
   "cell_type": "markdown",
   "metadata": {},
   "source": [
    "##### 30. Suppose we only seek to understand the relationship between SAT and ACT data in 2017. Does it make sense to conduct statistical inference given the data we have? Why?"
   ]
  },
  {
   "cell_type": "markdown",
   "metadata": {},
   "source": [
    "No, the score for 2017 of two test is given, it doesn't make sense to infer the past data by using the data we already knew. "
   ]
  }
 ],
 "metadata": {
  "anaconda-cloud": {},
  "kernelspec": {
   "display_name": "Python [default]",
   "language": "python",
   "name": "python3"
  },
  "language_info": {
   "codemirror_mode": {
    "name": "ipython",
    "version": 3
   },
   "file_extension": ".py",
   "mimetype": "text/x-python",
   "name": "python",
   "nbconvert_exporter": "python",
   "pygments_lexer": "ipython3",
   "version": "3.6.5"
  }
 },
 "nbformat": 4,
 "nbformat_minor": 1
}
